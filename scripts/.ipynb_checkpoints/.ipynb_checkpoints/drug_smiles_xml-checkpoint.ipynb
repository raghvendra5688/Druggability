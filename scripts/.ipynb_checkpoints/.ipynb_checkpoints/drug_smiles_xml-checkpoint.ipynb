{
 "cells": [
  {
   "cell_type": "code",
   "execution_count": null,
   "id": "ceb9a33c",
   "metadata": {},
   "outputs": [],
   "source": [
    "import untangle\n",
    "import pandas as pd\n",
    "import numpy as np\n",
    "import os"
   ]
  },
  {
   "cell_type": "code",
   "execution_count": null,
   "id": "90f92eba",
   "metadata": {},
   "outputs": [],
   "source": [
    "#takes couple of minutes\n",
    "filename=\"../../General_Data/drug_Full_DB.xml\" # DrugBank Version 6\n",
    "obj=untangle.parse(filename)"
   ]
  },
  {
   "cell_type": "code",
   "execution_count": null,
   "id": "e38919dd",
   "metadata": {},
   "outputs": [],
   "source": [
    "#Data Frame of Small Molecule Type Drugs\n",
    "df_drug_sm=pd.DataFrame(columns=[\"drug_id\",\"name\",\"cas\",\"smiles\",\"logP ALOGPS\", \"logP ChemAxon\", \"solubility ALOGPS\", \"pKa (strongest acidic)\", \"pKa (strongest basic)\"])\n",
    "df_drug_sm"
   ]
  },
  {
   "cell_type": "code",
   "execution_count": null,
   "id": "97f7626a",
   "metadata": {
    "lines_to_next_cell": 2
   },
   "outputs": [],
   "source": [
    "# Takes around 10 minutes to run.\n",
    "i=-1\n",
    "#iterate over drug entries to extract information\n",
    "for drug in obj.drugbank.drug:\n",
    "    drug_type= str(drug[\"type\"])\n",
    "    \n",
    "    # select for small molecule drugs\n",
    "    if drug_type in [\"small molecule\", \"Small Molecule\", \"Small molecule\"]:\n",
    "        i=i+1    \n",
    "        \n",
    "        #Get drug_id\n",
    "        for id in drug.drugbank_id:\n",
    "            if str(id[\"primary\"])==\"true\":\n",
    "                df_drug_sm.loc[i, \"drug_id\"]=id.cdata\n",
    "        \n",
    "        #Drug name\n",
    "        df_drug_sm.loc[i,\"name\"]=drug.name.cdata\n",
    "        \n",
    "        #Drug CAS\n",
    "        df_drug_sm.loc[i, \"cas\"]=drug.cas_number.cdata\n",
    "        \n",
    "        #Get SMILES, logP, Solubility\n",
    "        #Skip drugs with no structure. (\"DB00386\",\"DB00407\",\"DB00702\",\"DB00785\",\"DB00840\",\n",
    "        #                                            \"DB00893\",\"DB00930\",\"DB00965\", \"DB01109\",\"DB01266\",\n",
    "        #                                           \"DB01323\", \"DB01341\"...)\n",
    "        if len(drug.calculated_properties.cdata)==0: #If there is no calculated properties\n",
    "            continue\n",
    "        else:\n",
    "            for property in drug.calculated_properties.property:\n",
    "                if property.kind.cdata == \"SMILES\":\n",
    "                    df_drug_sm.loc[i, \"smiles\"]=property.value.cdata\n",
    "                    \n",
    "                if property.kind.cdata == \"logP\":\n",
    "                    if property.source.cdata == \"ALOGPS\":\n",
    "                        df_drug_sm.loc[i, \"logP ALOGPS\"]=property.value.cdata\n",
    "                    if property.source.cdata == \"ChemAxon\":\n",
    "                        df_drug_sm.loc[i, \"logP ChemAxon\"]=property.value.cdata\n",
    "                \n",
    "                if property.kind.cdata == \"Water Solubility\":\n",
    "                    df_drug_sm.loc[i, \"solubility ALOGPS\"]=property.value.cdata\n",
    "                \n",
    "                if property.kind.cdata == \"pKa (strongest acidic)\":\n",
    "                    df_drug_sm.loc[i, \"pKa (strongest acidic)\"]=property.value.cdata\n",
    "                \n",
    "                if property.kind.cdata == \"pKa (strongest basic)\":\n",
    "                    df_drug_sm.loc[i, \"pKa (strongest basic)\"]=property.value.cdata"
   ]
  },
  {
   "cell_type": "code",
   "execution_count": null,
   "id": "5e327a33",
   "metadata": {
    "lines_to_next_cell": 2
   },
   "outputs": [],
   "source": [
    "df_drug_sm.head(10)"
   ]
  },
  {
   "cell_type": "code",
   "execution_count": null,
   "id": "360d58ff",
   "metadata": {},
   "outputs": [],
   "source": [
    "#Drop drugs without SMILES from the dataframe\n",
    "df_drug_smiles = df_drug_sm.dropna()\n",
    "df_drug_smiles= df_drug_smiles.reset_index(drop=True)\n",
    "print(df_drug_smiles.shape)"
   ]
  },
  {
   "cell_type": "code",
   "execution_count": null,
   "id": "58da234c",
   "metadata": {},
   "outputs": [],
   "source": [
    "#write to csv\n",
    "df_drug_smiles.to_csv(\"../Data/smiles.csv\", encoding='utf-8', sep=\"|\", index=False)"
   ]
  },
  {
   "cell_type": "code",
   "execution_count": null,
   "id": "44f098a5",
   "metadata": {},
   "outputs": [],
   "source": []
  }
 ],
 "metadata": {
  "kernelspec": {
   "display_name": "feature-pHLA",
   "language": "python",
   "name": "feature-phla"
  }
 },
 "nbformat": 4,
 "nbformat_minor": 5
}
