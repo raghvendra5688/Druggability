{
 "cells": [
  {
   "cell_type": "code",
   "execution_count": 1,
   "id": "e0fb5364-f978-4b67-9794-3433f1cb05bd",
   "metadata": {},
   "outputs": [
    {
     "name": "stdout",
     "output_type": "stream",
     "text": [
      "Downloading finished... Beginning to extract zip file...\n",
      "pretrained model Successfully Downloaded...\n"
     ]
    }
   ],
   "source": [
    "from DeepPurpose import DTI as models\n",
    "net = models.model_pretrained(model = 'MPNN_CNN_DAVIS')"
   ]
  },
  {
   "cell_type": "code",
   "execution_count": 2,
   "id": "d4e5861a-1062-4df6-ae57-249dfe95267a",
   "metadata": {},
   "outputs": [
    {
     "name": "stdout",
     "output_type": "stream",
     "text": [
      "Downloading finished... Beginning to extract zip file...\n",
      "pretrained model Successfully Downloaded...\n"
     ]
    }
   ],
   "source": [
    "net1 = models.model_pretrained(model = 'CNN_CNN_BindingDB_IC50')"
   ]
  },
  {
   "cell_type": "code",
   "execution_count": 3,
   "id": "5c0a990b-ee96-4387-af22-e829de2cbafb",
   "metadata": {},
   "outputs": [
    {
     "name": "stdout",
     "output_type": "stream",
     "text": [
      "Downloading finished... Beginning to extract zip file...\n",
      "pretrained model Successfully Downloaded...\n"
     ]
    }
   ],
   "source": [
    "net2 = models.model_pretrained(model = 'Morgan_CNN_BindingDB_IC50')"
   ]
  },
  {
   "cell_type": "code",
   "execution_count": 4,
   "id": "474fb16a-729d-4b09-abaf-a96824e7ce92",
   "metadata": {},
   "outputs": [
    {
     "name": "stdout",
     "output_type": "stream",
     "text": [
      "Downloading finished... Beginning to extract zip file...\n",
      "pretrained model Successfully Downloaded...\n"
     ]
    }
   ],
   "source": [
    "net3 = models.model_pretrained(model = 'Morgan_AAC_BindingDB_IC50')"
   ]
  },
  {
   "cell_type": "code",
   "execution_count": 6,
   "id": "5392b34b-ff07-41db-b0ad-7f32a74227f4",
   "metadata": {},
   "outputs": [
    {
     "name": "stdout",
     "output_type": "stream",
     "text": [
      "Downloading finished... Beginning to extract zip file...\n",
      "pretrained model Successfully Downloaded...\n"
     ]
    }
   ],
   "source": [
    "net4 = models.model_pretrained(model = 'Daylight_AAC_BindingDB_IC50')"
   ]
  },
  {
   "cell_type": "code",
   "execution_count": 7,
   "id": "57079e1b-8ee8-41f2-8226-f9b532455803",
   "metadata": {},
   "outputs": [
    {
     "name": "stdout",
     "output_type": "stream",
     "text": [
      "Downloading finished... Beginning to extract zip file...\n",
      "pretrained model Successfully Downloaded...\n"
     ]
    }
   ],
   "source": [
    "net5 = models.model_pretrained(model = 'CNN_CNN_DAVIS')"
   ]
  },
  {
   "cell_type": "code",
   "execution_count": 8,
   "id": "ef498460-f68f-4712-9d7a-cd0985034d9d",
   "metadata": {},
   "outputs": [
    {
     "name": "stdout",
     "output_type": "stream",
     "text": [
      "Downloading finished... Beginning to extract zip file...\n",
      "pretrained model Successfully Downloaded...\n"
     ]
    }
   ],
   "source": [
    "net6 = models.model_pretrained(model = 'CNN_CNN_BindingDB')"
   ]
  },
  {
   "cell_type": "code",
   "execution_count": 9,
   "id": "ff67bf77-fcae-4cae-ab51-c1fe0d143683",
   "metadata": {},
   "outputs": [
    {
     "name": "stdout",
     "output_type": "stream",
     "text": [
      "Downloading finished... Beginning to extract zip file...\n",
      "pretrained model Successfully Downloaded...\n"
     ]
    }
   ],
   "source": [
    "net7 = models.model_pretrained(model = 'Morgan_CNN_BindingDB')"
   ]
  },
  {
   "cell_type": "code",
   "execution_count": 12,
   "id": "1e065e16-ad2b-43d0-a890-c9481757cf14",
   "metadata": {},
   "outputs": [
    {
     "name": "stdout",
     "output_type": "stream",
     "text": [
      "Downloading finished... Beginning to extract zip file...\n",
      "pretrained model Successfully Downloaded...\n"
     ]
    }
   ],
   "source": [
    "net8 = models.model_pretrained(model = 'Morgan_CNN_DAVIS')"
   ]
  },
  {
   "cell_type": "code",
   "execution_count": 13,
   "id": "c872bc3b-66a1-47fa-a243-2b93572558d1",
   "metadata": {},
   "outputs": [
    {
     "name": "stdout",
     "output_type": "stream",
     "text": [
      "Downloading finished... Beginning to extract zip file...\n",
      "pretrained model Successfully Downloaded...\n"
     ]
    }
   ],
   "source": [
    "net9 = models.model_pretrained(model = 'MPNN_CNN_BindingDB')"
   ]
  },
  {
   "cell_type": "code",
   "execution_count": 14,
   "id": "3e98ab07-2177-433d-b911-2ab56f98f4bd",
   "metadata": {},
   "outputs": [
    {
     "name": "stdout",
     "output_type": "stream",
     "text": [
      "Downloading finished... Beginning to extract zip file...\n",
      "pretrained model Successfully Downloaded...\n"
     ]
    }
   ],
   "source": [
    "net10 = models.model_pretrained(model = 'MPNN_CNN_KIBA')"
   ]
  },
  {
   "cell_type": "code",
   "execution_count": 15,
   "id": "7dbef197-46af-4db3-bbe3-0cfe5e910c53",
   "metadata": {},
   "outputs": [
    {
     "name": "stdout",
     "output_type": "stream",
     "text": [
      "Downloading finished... Beginning to extract zip file...\n",
      "pretrained model Successfully Downloaded...\n"
     ]
    }
   ],
   "source": [
    "net11 = models.model_pretrained(model = 'Transformer_CNN_BindingDB')"
   ]
  },
  {
   "cell_type": "code",
   "execution_count": 16,
   "id": "db039ea6-485d-4085-a306-86abd2c221a3",
   "metadata": {},
   "outputs": [
    {
     "name": "stdout",
     "output_type": "stream",
     "text": [
      "Downloading finished... Beginning to extract zip file...\n",
      "pretrained model Successfully Downloaded...\n"
     ]
    }
   ],
   "source": [
    "net12 = models.model_pretrained(model = 'Daylight_AAC_DAVIS')"
   ]
  },
  {
   "cell_type": "code",
   "execution_count": 17,
   "id": "613b616b-0c58-4b9c-9920-c46848c8667a",
   "metadata": {},
   "outputs": [
    {
     "name": "stdout",
     "output_type": "stream",
     "text": [
      "Downloading finished... Beginning to extract zip file...\n",
      "pretrained model Successfully Downloaded...\n"
     ]
    }
   ],
   "source": [
    "net13 = models.model_pretrained(model = 'Daylight_AAC_KIBA')"
   ]
  },
  {
   "cell_type": "code",
   "execution_count": 18,
   "id": "9d351178-8751-4ca1-b992-41a7a3e3dc44",
   "metadata": {},
   "outputs": [
    {
     "name": "stdout",
     "output_type": "stream",
     "text": [
      "Downloading finished... Beginning to extract zip file...\n",
      "pretrained model Successfully Downloaded...\n"
     ]
    }
   ],
   "source": [
    "net14 = models.model_pretrained(model = 'Daylight_AAC_BindingDB')"
   ]
  },
  {
   "cell_type": "code",
   "execution_count": 19,
   "id": "d320b4d7-c666-4f52-893e-e3f6e1487841",
   "metadata": {},
   "outputs": [
    {
     "name": "stdout",
     "output_type": "stream",
     "text": [
      "Downloading finished... Beginning to extract zip file...\n",
      "pretrained model Successfully Downloaded...\n"
     ]
    }
   ],
   "source": [
    "net15 = models.model_pretrained(model = 'Morgan_AAC_BindingDB')"
   ]
  },
  {
   "cell_type": "code",
   "execution_count": 20,
   "id": "21c84dc3-03ae-4579-aead-6b20958b9f44",
   "metadata": {},
   "outputs": [
    {
     "name": "stdout",
     "output_type": "stream",
     "text": [
      "Downloading finished... Beginning to extract zip file...\n",
      "pretrained model Successfully Downloaded...\n"
     ]
    }
   ],
   "source": [
    "net16 = models.model_pretrained(model = 'Morgan_AAC_KIBA')"
   ]
  },
  {
   "cell_type": "code",
   "execution_count": 21,
   "id": "6bd91c64-208e-4ec8-8d9a-bf407b3c89e1",
   "metadata": {},
   "outputs": [
    {
     "name": "stdout",
     "output_type": "stream",
     "text": [
      "Downloading finished... Beginning to extract zip file...\n",
      "pretrained model Successfully Downloaded...\n"
     ]
    }
   ],
   "source": [
    "net17 = models.model_pretrained(model = 'Morgan_AAC_DAVIS')"
   ]
  },
  {
   "cell_type": "code",
   "execution_count": 22,
   "id": "47bf80a4-32c4-4846-88ff-3ece190c254e",
   "metadata": {},
   "outputs": [],
   "source": [
    "net_final = models.model_pretrained(\"/home/Raghvendra.Mall/TII/Projects/Raghav/CAR-T/Druggability_Score/scripts/save_folder/pretrained_models/cnn_cnn_bindingdb_ic50\")"
   ]
  },
  {
   "cell_type": "code",
   "execution_count": null,
   "id": "d215dd8b-d436-43cb-ae25-519c6995bfaf",
   "metadata": {},
   "outputs": [],
   "source": []
  }
 ],
 "metadata": {
  "kernelspec": {
   "display_name": "ProtSol",
   "language": "python",
   "name": "protsol"
  },
  "language_info": {
   "codemirror_mode": {
    "name": "ipython",
    "version": 3
   },
   "file_extension": ".py",
   "mimetype": "text/x-python",
   "name": "python",
   "nbconvert_exporter": "python",
   "pygments_lexer": "ipython3",
   "version": "3.11.3"
  },
  "widgets": {
   "application/vnd.jupyter.widget-state+json": {
    "state": {},
    "version_major": 2,
    "version_minor": 0
   }
  }
 },
 "nbformat": 4,
 "nbformat_minor": 5
}
