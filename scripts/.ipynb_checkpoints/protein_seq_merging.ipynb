{
 "cells": [
  {
   "cell_type": "markdown",
   "id": "c13baa46-ba38-471b-bdfa-4926cc79ed3b",
   "metadata": {},
   "source": [
    "## Merge the protein sequence with UniProt Id and gene names for AlphaFold Database proteins"
   ]
  },
  {
   "cell_type": "code",
   "execution_count": 1,
   "id": "277303e5-f3f6-451b-ae81-e0a5e7cce038",
   "metadata": {},
   "outputs": [],
   "source": [
    "import pandas as pd\n",
    "import numpy as np\n",
    "from Bio import SeqIO"
   ]
  },
  {
   "cell_type": "code",
   "execution_count": 2,
   "id": "ae204712-b16e-4530-9b01-a76dd1bd9084",
   "metadata": {},
   "outputs": [
    {
     "data": {
      "text/html": [
       "<div>\n",
       "<style scoped>\n",
       "    .dataframe tbody tr th:only-of-type {\n",
       "        vertical-align: middle;\n",
       "    }\n",
       "\n",
       "    .dataframe tbody tr th {\n",
       "        vertical-align: top;\n",
       "    }\n",
       "\n",
       "    .dataframe thead th {\n",
       "        text-align: right;\n",
       "    }\n",
       "</style>\n",
       "<table border=\"1\" class=\"dataframe\">\n",
       "  <thead>\n",
       "    <tr style=\"text-align: right;\">\n",
       "      <th></th>\n",
       "      <th>UniProtId</th>\n",
       "      <th>Gene_Name</th>\n",
       "      <th>Protein_Sequence</th>\n",
       "    </tr>\n",
       "  </thead>\n",
       "  <tbody>\n",
       "    <tr>\n",
       "      <th>0</th>\n",
       "      <td>A0A0A0MS01</td>\n",
       "      <td>TVG10_HUMAN</td>\n",
       "      <td>MSLLEAFAFSSWALGLGLSKVEQFQLSISTEVKKSIDIPCKISSTR...</td>\n",
       "    </tr>\n",
       "    <tr>\n",
       "      <th>1</th>\n",
       "      <td>A0A286YF77</td>\n",
       "      <td>SCGR6_HUMAN</td>\n",
       "      <td>MGCCGCGGCGGGCGGCGGGCSGGCGGGCGGGCGSCTTCRCYRVGCC...</td>\n",
       "    </tr>\n",
       "    <tr>\n",
       "      <th>2</th>\n",
       "      <td>A0A411D538</td>\n",
       "      <td>SCPPQ_HUMAN</td>\n",
       "      <td>MKFLILAGLLSTATALPIPLEQYAESSSEQRFIFYPPQVPPFFPQV...</td>\n",
       "    </tr>\n",
       "    <tr>\n",
       "      <th>3</th>\n",
       "      <td>A1L190</td>\n",
       "      <td>SYCE3_HUMAN</td>\n",
       "      <td>MDDADPEERNYDNMLKMLSDLNKDLEKLLEEMEKISVQATWMAYDM...</td>\n",
       "    </tr>\n",
       "    <tr>\n",
       "      <th>4</th>\n",
       "      <td>A5PLN9</td>\n",
       "      <td>TPC13_HUMAN</td>\n",
       "      <td>MEVNPPKQEHLLALKVMRLTKPTLFTNIPVTCEEKDLPGDLFNQLM...</td>\n",
       "    </tr>\n",
       "  </tbody>\n",
       "</table>\n",
       "</div>"
      ],
      "text/plain": [
       "    UniProtId    Gene_Name                                   Protein_Sequence\n",
       "0  A0A0A0MS01  TVG10_HUMAN  MSLLEAFAFSSWALGLGLSKVEQFQLSISTEVKKSIDIPCKISSTR...\n",
       "1  A0A286YF77  SCGR6_HUMAN  MGCCGCGGCGGGCGGCGGGCSGGCGGGCGGGCGSCTTCRCYRVGCC...\n",
       "2  A0A411D538  SCPPQ_HUMAN  MKFLILAGLLSTATALPIPLEQYAESSSEQRFIFYPPQVPPFFPQV...\n",
       "3      A1L190  SYCE3_HUMAN  MDDADPEERNYDNMLKMLSDLNKDLEKLLEEMEKISVQATWMAYDM...\n",
       "4      A5PLN9  TPC13_HUMAN  MEVNPPKQEHLLALKVMRLTKPTLFTNIPVTCEEKDLPGDLFNQLM..."
      ]
     },
     "execution_count": 2,
     "metadata": {},
     "output_type": "execute_result"
    }
   ],
   "source": [
    "#Load the training set\n",
    "input_file = \"../Data/UP000005640_9606.fasta\"\n",
    "fasta_sequences = SeqIO.parse(open(input_file),'fasta')\n",
    "seq_names, seq_gene_names, seq_seqs = [],[],[]\n",
    "for fasta in fasta_sequences:\n",
    "    fasta_id = fasta.id.split(\"|\")\n",
    "    name, gene_name, sequence = fasta_id[1], fasta_id[2], str(fasta.seq)\n",
    "    seq_names.append(name)\n",
    "    seq_gene_names.append(gene_name)\n",
    "    seq_seqs.append(sequence)\n",
    "protein_df = pd.DataFrame([seq_names, seq_gene_names, seq_seqs]).transpose()\n",
    "protein_df.columns = [\"UniProtId\",\"Gene_Name\",\"Protein_Sequence\"]\n",
    "protein_df.head()"
   ]
  },
  {
   "cell_type": "code",
   "execution_count": 3,
   "id": "39d807eb-cbab-4de5-907e-c419cab76714",
   "metadata": {},
   "outputs": [
    {
     "name": "stdout",
     "output_type": "stream",
     "text": [
      "(19628, 4)\n"
     ]
    }
   ],
   "source": [
    "#Get the filtered AlphaFold Database\n",
    "alphafold_protein_df = pd.read_csv(\"../Data/Filtered_AlphaFold_UniProtKB.csv\",header=\"infer\")\n",
    "print(alphafold_protein_df.shape)\n",
    "\n",
    "#Perform innner join\n",
    "merged_protein_df = pd.merge(alphafold_protein_df, protein_df, on=['UniProtId','Gene_Name'], how='left')\n",
    "merged_protein_df.to_csv(\"../Data/Filtered_AlphaFold_UniProtKB_with_Sequence.csv\",index=None)"
   ]
  },
  {
   "cell_type": "code",
   "execution_count": 4,
   "id": "912e6f7f-4e2f-4b69-a822-b776515917c6",
   "metadata": {},
   "outputs": [
    {
     "data": {
      "text/html": [
       "<div>\n",
       "<style scoped>\n",
       "    .dataframe tbody tr th:only-of-type {\n",
       "        vertical-align: middle;\n",
       "    }\n",
       "\n",
       "    .dataframe tbody tr th {\n",
       "        vertical-align: top;\n",
       "    }\n",
       "\n",
       "    .dataframe thead th {\n",
       "        text-align: right;\n",
       "    }\n",
       "</style>\n",
       "<table border=\"1\" class=\"dataframe\">\n",
       "  <thead>\n",
       "    <tr style=\"text-align: right;\">\n",
       "      <th></th>\n",
       "      <th>UniProtId</th>\n",
       "      <th>Label</th>\n",
       "      <th>Gene_Name</th>\n",
       "      <th>hgnc_symbol</th>\n",
       "      <th>Protein_Sequence</th>\n",
       "    </tr>\n",
       "  </thead>\n",
       "  <tbody>\n",
       "  </tbody>\n",
       "</table>\n",
       "</div>"
      ],
      "text/plain": [
       "Empty DataFrame\n",
       "Columns: [UniProtId, Label, Gene_Name, hgnc_symbol, Protein_Sequence]\n",
       "Index: []"
      ]
     },
     "execution_count": 4,
     "metadata": {},
     "output_type": "execute_result"
    }
   ],
   "source": [
    "missing_protein_ids = np.where(merged_protein_df[\"Protein_Sequence\"].isna())\n",
    "missing_protein_ids = list(missing_protein_ids[0])\n",
    "merged_protein_df.iloc[missing_protein_ids,:]"
   ]
  },
  {
   "cell_type": "code",
   "execution_count": null,
   "id": "c68dfd25-c167-4830-b69d-e1c7d91b1612",
   "metadata": {},
   "outputs": [],
   "source": []
  }
 ],
 "metadata": {
  "kernelspec": {
   "display_name": "ProtSol",
   "language": "python",
   "name": "protsol"
  },
  "language_info": {
   "codemirror_mode": {
    "name": "ipython",
    "version": 3
   },
   "file_extension": ".py",
   "mimetype": "text/x-python",
   "name": "python",
   "nbconvert_exporter": "python",
   "pygments_lexer": "ipython3",
   "version": "3.11.3"
  },
  "widgets": {
   "application/vnd.jupyter.widget-state+json": {
    "state": {},
    "version_major": 2,
    "version_minor": 0
   }
  }
 },
 "nbformat": 4,
 "nbformat_minor": 5
}
