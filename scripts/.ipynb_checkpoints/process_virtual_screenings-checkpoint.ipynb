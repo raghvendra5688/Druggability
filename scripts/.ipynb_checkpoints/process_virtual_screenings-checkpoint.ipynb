{
 "cells": [
  {
   "cell_type": "code",
   "execution_count": 1,
   "id": "19502cd7-6383-42e0-ba44-0899403db11c",
   "metadata": {},
   "outputs": [],
   "source": [
    "#Import Modules\n",
    "import pandas as pd\n",
    "import numpy as np\n",
    "import matplotlib.pyplot as plt\n",
    "import gc\n",
    "import re\n",
    "%matplotlib inline\n",
    "import scipy.stats as ss\n",
    "import ranky as rk"
   ]
  },
  {
   "cell_type": "code",
   "execution_count": 2,
   "id": "9bdb1ae6-d87f-47ab-9a9d-d216b663ba07",
   "metadata": {},
   "outputs": [
    {
     "name": "stderr",
     "output_type": "stream",
     "text": [
      "<ipython-input-2-21b1c5074df9>:9: DtypeWarning: Columns (0) have mixed types. Specify dtype option on import or set low_memory=False.\n",
      "  big_df = pd.read_csv(\"/home/Raghvendra.Mall/TII/Projects/Raghav/CAR-T/General_Data/virtual_screenings/\"+model_name+\"/\"+model_name+\"_virtual_screening.csv\", header=\"infer\",sep=\"|\")\n"
     ]
    },
    {
     "name": "stdout",
     "output_type": "stream",
     "text": [
      "(19571, 4346)\n"
     ]
    },
    {
     "name": "stderr",
     "output_type": "stream",
     "text": [
      "<ipython-input-2-21b1c5074df9>:9: DtypeWarning: Columns (0,4) have mixed types. Specify dtype option on import or set low_memory=False.\n",
      "  big_df = pd.read_csv(\"/home/Raghvendra.Mall/TII/Projects/Raghav/CAR-T/General_Data/virtual_screenings/\"+model_name+\"/\"+model_name+\"_virtual_screening.csv\", header=\"infer\",sep=\"|\")\n"
     ]
    },
    {
     "name": "stdout",
     "output_type": "stream",
     "text": [
      "(19571, 4346)\n"
     ]
    },
    {
     "name": "stderr",
     "output_type": "stream",
     "text": [
      "<ipython-input-2-21b1c5074df9>:9: DtypeWarning: Columns (0) have mixed types. Specify dtype option on import or set low_memory=False.\n",
      "  big_df = pd.read_csv(\"/home/Raghvendra.Mall/TII/Projects/Raghav/CAR-T/General_Data/virtual_screenings/\"+model_name+\"/\"+model_name+\"_virtual_screening.csv\", header=\"infer\",sep=\"|\")\n"
     ]
    },
    {
     "name": "stdout",
     "output_type": "stream",
     "text": [
      "(19571, 4346)\n"
     ]
    },
    {
     "name": "stderr",
     "output_type": "stream",
     "text": [
      "<ipython-input-2-21b1c5074df9>:9: DtypeWarning: Columns (0) have mixed types. Specify dtype option on import or set low_memory=False.\n",
      "  big_df = pd.read_csv(\"/home/Raghvendra.Mall/TII/Projects/Raghav/CAR-T/General_Data/virtual_screenings/\"+model_name+\"/\"+model_name+\"_virtual_screening.csv\", header=\"infer\",sep=\"|\")\n"
     ]
    },
    {
     "name": "stdout",
     "output_type": "stream",
     "text": [
      "(19571, 4346)\n"
     ]
    },
    {
     "name": "stderr",
     "output_type": "stream",
     "text": [
      "<ipython-input-2-21b1c5074df9>:9: DtypeWarning: Columns (0) have mixed types. Specify dtype option on import or set low_memory=False.\n",
      "  big_df = pd.read_csv(\"/home/Raghvendra.Mall/TII/Projects/Raghav/CAR-T/General_Data/virtual_screenings/\"+model_name+\"/\"+model_name+\"_virtual_screening.csv\", header=\"infer\",sep=\"|\")\n"
     ]
    },
    {
     "name": "stdout",
     "output_type": "stream",
     "text": [
      "(19571, 4346)\n"
     ]
    },
    {
     "name": "stderr",
     "output_type": "stream",
     "text": [
      "<ipython-input-2-21b1c5074df9>:9: DtypeWarning: Columns (0) have mixed types. Specify dtype option on import or set low_memory=False.\n",
      "  big_df = pd.read_csv(\"/home/Raghvendra.Mall/TII/Projects/Raghav/CAR-T/General_Data/virtual_screenings/\"+model_name+\"/\"+model_name+\"_virtual_screening.csv\", header=\"infer\",sep=\"|\")\n"
     ]
    },
    {
     "name": "stdout",
     "output_type": "stream",
     "text": [
      "(19571, 4346)\n"
     ]
    },
    {
     "name": "stderr",
     "output_type": "stream",
     "text": [
      "<ipython-input-2-21b1c5074df9>:9: DtypeWarning: Columns (0) have mixed types. Specify dtype option on import or set low_memory=False.\n",
      "  big_df = pd.read_csv(\"/home/Raghvendra.Mall/TII/Projects/Raghav/CAR-T/General_Data/virtual_screenings/\"+model_name+\"/\"+model_name+\"_virtual_screening.csv\", header=\"infer\",sep=\"|\")\n"
     ]
    },
    {
     "name": "stdout",
     "output_type": "stream",
     "text": [
      "(19571, 4346)\n"
     ]
    },
    {
     "name": "stderr",
     "output_type": "stream",
     "text": [
      "<ipython-input-2-21b1c5074df9>:9: DtypeWarning: Columns (0) have mixed types. Specify dtype option on import or set low_memory=False.\n",
      "  big_df = pd.read_csv(\"/home/Raghvendra.Mall/TII/Projects/Raghav/CAR-T/General_Data/virtual_screenings/\"+model_name+\"/\"+model_name+\"_virtual_screening.csv\", header=\"infer\",sep=\"|\")\n"
     ]
    },
    {
     "name": "stdout",
     "output_type": "stream",
     "text": [
      "(19571, 4346)\n"
     ]
    },
    {
     "name": "stderr",
     "output_type": "stream",
     "text": [
      "<ipython-input-2-21b1c5074df9>:9: DtypeWarning: Columns (0) have mixed types. Specify dtype option on import or set low_memory=False.\n",
      "  big_df = pd.read_csv(\"/home/Raghvendra.Mall/TII/Projects/Raghav/CAR-T/General_Data/virtual_screenings/\"+model_name+\"/\"+model_name+\"_virtual_screening.csv\", header=\"infer\",sep=\"|\")\n"
     ]
    },
    {
     "name": "stdout",
     "output_type": "stream",
     "text": [
      "(19571, 4346)\n"
     ]
    },
    {
     "name": "stderr",
     "output_type": "stream",
     "text": [
      "<ipython-input-2-21b1c5074df9>:9: DtypeWarning: Columns (0,4) have mixed types. Specify dtype option on import or set low_memory=False.\n",
      "  big_df = pd.read_csv(\"/home/Raghvendra.Mall/TII/Projects/Raghav/CAR-T/General_Data/virtual_screenings/\"+model_name+\"/\"+model_name+\"_virtual_screening.csv\", header=\"infer\",sep=\"|\")\n"
     ]
    },
    {
     "name": "stdout",
     "output_type": "stream",
     "text": [
      "(19571, 4346)\n"
     ]
    },
    {
     "name": "stderr",
     "output_type": "stream",
     "text": [
      "<ipython-input-2-21b1c5074df9>:9: DtypeWarning: Columns (0,4) have mixed types. Specify dtype option on import or set low_memory=False.\n",
      "  big_df = pd.read_csv(\"/home/Raghvendra.Mall/TII/Projects/Raghav/CAR-T/General_Data/virtual_screenings/\"+model_name+\"/\"+model_name+\"_virtual_screening.csv\", header=\"infer\",sep=\"|\")\n"
     ]
    },
    {
     "name": "stdout",
     "output_type": "stream",
     "text": [
      "(19571, 4346)\n"
     ]
    },
    {
     "name": "stderr",
     "output_type": "stream",
     "text": [
      "<ipython-input-2-21b1c5074df9>:9: DtypeWarning: Columns (0) have mixed types. Specify dtype option on import or set low_memory=False.\n",
      "  big_df = pd.read_csv(\"/home/Raghvendra.Mall/TII/Projects/Raghav/CAR-T/General_Data/virtual_screenings/\"+model_name+\"/\"+model_name+\"_virtual_screening.csv\", header=\"infer\",sep=\"|\")\n"
     ]
    },
    {
     "name": "stdout",
     "output_type": "stream",
     "text": [
      "(19571, 4346)\n"
     ]
    },
    {
     "name": "stderr",
     "output_type": "stream",
     "text": [
      "<ipython-input-2-21b1c5074df9>:9: DtypeWarning: Columns (0) have mixed types. Specify dtype option on import or set low_memory=False.\n",
      "  big_df = pd.read_csv(\"/home/Raghvendra.Mall/TII/Projects/Raghav/CAR-T/General_Data/virtual_screenings/\"+model_name+\"/\"+model_name+\"_virtual_screening.csv\", header=\"infer\",sep=\"|\")\n"
     ]
    },
    {
     "name": "stdout",
     "output_type": "stream",
     "text": [
      "(19571, 4346)\n"
     ]
    },
    {
     "name": "stderr",
     "output_type": "stream",
     "text": [
      "<ipython-input-2-21b1c5074df9>:9: DtypeWarning: Columns (0) have mixed types. Specify dtype option on import or set low_memory=False.\n",
      "  big_df = pd.read_csv(\"/home/Raghvendra.Mall/TII/Projects/Raghav/CAR-T/General_Data/virtual_screenings/\"+model_name+\"/\"+model_name+\"_virtual_screening.csv\", header=\"infer\",sep=\"|\")\n"
     ]
    },
    {
     "name": "stdout",
     "output_type": "stream",
     "text": [
      "(19571, 4346)\n"
     ]
    },
    {
     "name": "stderr",
     "output_type": "stream",
     "text": [
      "<ipython-input-2-21b1c5074df9>:9: DtypeWarning: Columns (0) have mixed types. Specify dtype option on import or set low_memory=False.\n",
      "  big_df = pd.read_csv(\"/home/Raghvendra.Mall/TII/Projects/Raghav/CAR-T/General_Data/virtual_screenings/\"+model_name+\"/\"+model_name+\"_virtual_screening.csv\", header=\"infer\",sep=\"|\")\n"
     ]
    },
    {
     "name": "stdout",
     "output_type": "stream",
     "text": [
      "(19571, 4346)\n"
     ]
    },
    {
     "name": "stderr",
     "output_type": "stream",
     "text": [
      "<ipython-input-2-21b1c5074df9>:9: DtypeWarning: Columns (0) have mixed types. Specify dtype option on import or set low_memory=False.\n",
      "  big_df = pd.read_csv(\"/home/Raghvendra.Mall/TII/Projects/Raghav/CAR-T/General_Data/virtual_screenings/\"+model_name+\"/\"+model_name+\"_virtual_screening.csv\", header=\"infer\",sep=\"|\")\n"
     ]
    },
    {
     "name": "stdout",
     "output_type": "stream",
     "text": [
      "(19571, 4346)\n"
     ]
    },
    {
     "name": "stderr",
     "output_type": "stream",
     "text": [
      "<ipython-input-2-21b1c5074df9>:9: DtypeWarning: Columns (0) have mixed types. Specify dtype option on import or set low_memory=False.\n",
      "  big_df = pd.read_csv(\"/home/Raghvendra.Mall/TII/Projects/Raghav/CAR-T/General_Data/virtual_screenings/\"+model_name+\"/\"+model_name+\"_virtual_screening.csv\", header=\"infer\",sep=\"|\")\n"
     ]
    },
    {
     "name": "stdout",
     "output_type": "stream",
     "text": [
      "(19571, 4346)\n"
     ]
    },
    {
     "name": "stderr",
     "output_type": "stream",
     "text": [
      "<ipython-input-2-21b1c5074df9>:9: DtypeWarning: Columns (0) have mixed types. Specify dtype option on import or set low_memory=False.\n",
      "  big_df = pd.read_csv(\"/home/Raghvendra.Mall/TII/Projects/Raghav/CAR-T/General_Data/virtual_screenings/\"+model_name+\"/\"+model_name+\"_virtual_screening.csv\", header=\"infer\",sep=\"|\")\n"
     ]
    },
    {
     "name": "stdout",
     "output_type": "stream",
     "text": [
      "(19571, 4346)\n"
     ]
    }
   ],
   "source": [
    "#List of all models\n",
    "model_names = [\"CNN_CNN_BindingDB_IC50\",\"MPNN_CNN_DAVIS\",\"Morgan_CNN_BindingDB_IC50\",\"Morgan_AAC_BindingDB_IC50\",\"Daylight_AAC_BindingDB_IC50\",\"CNN_CNN_DAVIS\",\n",
    "               \"CNN_CNN_BindingDB\",\"Morgan_CNN_BindingDB\",\"Morgan_CNN_DAVIS\",\"MPNN_CNN_BindingDB\",\"MPNN_CNN_KIBA\",\"Transformer_CNN_BindingDB\",\n",
    "               \"Daylight_AAC_DAVIS\",\"Daylight_AAC_KIBA\",\"Daylight_AAC_BindingDB\",\"Morgan_AAC_BindingDB\",\"Morgan_AAC_KIBA\",\"Morgan_AAC_DAVIS\"]\n",
    "\n",
    "all_model_df = {}\n",
    "for model_name in model_names:\n",
    "    #Read the big data\n",
    "    big_df = pd.read_csv(\"/home/Raghvendra.Mall/TII/Projects/Raghav/CAR-T/General_Data/virtual_screenings/\"+model_name+\"/\"+model_name+\"_virtual_screening.csv\", header=\"infer\",sep=\"|\")\n",
    "    #Remove auxillary columns\n",
    "    big_df = big_df.drop(columns = [\"Unnamed: 0\",\"Unnamed: 5\"],axis=1)\n",
    "    big_df.columns = [\"Rank\",\"Drug Name\",\"Target Name\",\"Binding Score\"]\n",
    "\n",
    "    #Remove the rankings\n",
    "    big_df = big_df.drop(columns = [\"Rank\"],axis=1)\n",
    "\n",
    "    #Remove white spaces from drug name\n",
    "    big_df[\"Drug Name\"] = big_df[\"Drug Name\"].str.replace(r'\\s+', '', regex=True)\n",
    "\n",
    "    #Remove white spaces from target name\n",
    "    big_df[\"Target Name\"]=big_df[\"Target Name\"].str.replace(r'\\s+', '', regex=True)\n",
    "\n",
    "    #Remove all NAs\n",
    "    big_df = big_df.dropna(how=\"all\")\n",
    "    big_df[\"Binding Score\"]=big_df[\"Binding Score\"].astype(float)\n",
    "\n",
    "    ##If after removing NAs still NAs remain as string, then replace with 0\n",
    "    #vals = np.where(big_df[\"Binding Score\"].isnull())\n",
    "    #if (len(vals)>0):\n",
    "    #    big_df.loc[vals[0],2]=0   #3rd column is Binding Score\n",
    "    \n",
    "    #Convert dataframe to matrix\n",
    "    pivoted_big_df = big_df.pivot(index=\"Target Name\",columns=\"Drug Name\",values=\"Binding Score\")\n",
    "    \n",
    "    #Convert matrix to ranks\n",
    "    pivoted_big_ranked_df = pivoted_big_df.apply(lambda x: ss.rankdata(-x,method=\"min\",nan_policy=\"omit\"))\n",
    "    print(pivoted_big_ranked_df.shape)\n",
    "\n",
    "    #Remove the big data file\n",
    "    del big_df, pivoted_big_df\n",
    "    gc.collect()\n",
    "\n",
    "    all_model_df[model_name]=pivoted_big_ranked_df\n",
    "\n",
    "#print(all_model_df)"
   ]
  },
  {
   "cell_type": "code",
   "execution_count": 16,
   "id": "e575782c-b6bd-4c84-892d-af424a92c56e",
   "metadata": {},
   "outputs": [
    {
     "name": "stdout",
     "output_type": "stream",
     "text": [
      "dict_keys(['CNN_CNN_BindingDB_IC50', 'MPNN_CNN_DAVIS', 'Morgan_CNN_BindingDB_IC50', 'Morgan_AAC_BindingDB_IC50', 'Daylight_AAC_BindingDB_IC50', 'CNN_CNN_DAVIS', 'CNN_CNN_BindingDB', 'Morgan_CNN_BindingDB', 'Morgan_CNN_DAVIS', 'MPNN_CNN_BindingDB', 'MPNN_CNN_KIBA', 'Transformer_CNN_BindingDB', 'Daylight_AAC_DAVIS', 'Daylight_AAC_KIBA', 'Daylight_AAC_BindingDB', 'Morgan_AAC_BindingDB', 'Morgan_AAC_KIBA', 'Morgan_AAC_DAVIS'])\n",
      "Done with 0 drugs\n",
      "Done with 500 drugs\n",
      "Done with 1000 drugs\n",
      "Done with 1500 drugs\n",
      "Done with 2000 drugs\n",
      "Done with 2500 drugs\n",
      "Done with 3000 drugs\n",
      "Done with 3500 drugs\n",
      "Done with 4000 drugs\n"
     ]
    }
   ],
   "source": [
    "#Print the keys which include all drug repurpose methods\n",
    "print(all_model_df.keys())\n",
    "\n",
    "#Get list of all drug ids\n",
    "all_drug_ids = pivoted_big_ranked_df.columns.tolist()\n",
    "\n",
    "#Create an empty drug ranking dataframe which will contain aggregated ranks\n",
    "final_ranked_protein_drug_df = pd.DataFrame()\n",
    "\n",
    "k=0\n",
    "#Traverse overall the drugs\n",
    "for drug in all_drug_ids:\n",
    "    #Create an empty dataframe\n",
    "    temp_df = pd.DataFrame()\n",
    "    \n",
    "    #Traverse over all models\n",
    "    for model_name in model_names:\n",
    "        pivoted_big_ranked_df = all_model_df[model_name]\n",
    "        temp_df = pd.concat([temp_df,pivoted_big_ranked_df[drug]],axis=1)\n",
    "    #Set the columns as the different model names\n",
    "    temp_df.columns = model_names\n",
    "        \n",
    "    #Get aggregated ranks for each drug\n",
    "    temp_list = list(ss.rankdata(rk.borda(temp_df,method='median'),method='min',nan_policy='omit'))\n",
    "    final_ranked_protein_drug_df = pd.concat([final_ranked_protein_drug_df,pd.DataFrame(temp_list)],axis=1)\n",
    "\n",
    "    if (k%500==0):\n",
    "        print(\"Done with \"+str(k)+\" drugs\")\n",
    "    k+=1\n",
    "\n",
    "#Set the index of the final rank aggregated dataframe\n",
    "final_ranked_protein_drug_df.columns = all_drug_ids\n",
    "final_ranked_protein_drug_df.index  = pivoted_big_ranked_df.index\n",
    "final_ranked_protein_drug_df.to_csv(\"../Results/ML_virtual_screenings/ML_virtual_screening.csv\",index=True,sep=\",\", index_label=\"Target\", na_rep='nan')"
   ]
  },
  {
   "cell_type": "code",
   "execution_count": 17,
   "id": "a5577467-ff35-4882-8a86-1152b6c5b9cb",
   "metadata": {},
   "outputs": [
    {
     "name": "stdout",
     "output_type": "stream",
     "text": [
      "             DB00006  DB00007  DB00014  DB00035  DB00050  DB00093  DB00104  \\\n",
      "Target Name                                                                  \n",
      "A0A024R1R8      3369    11276     1732     1586     9877     2318     6156   \n",
      "A0A024RBG1      5699     8807    11179     7343     2796     5770     6056   \n",
      "A0A075B6H7     15155     9465     7627    16550    11668    12009     6185   \n",
      "A0A075B6H8     17785    11644    13939    19171    13843    17750    16980   \n",
      "A0A075B6I4     16964     7486    15676    14301    14788    13809    10877   \n",
      "\n",
      "             DB00106  DB00114  DB00115  ...  DB15488  DB15489  DB15493  \\\n",
      "Target Name                             ...                              \n",
      "A0A024R1R8      7123     6803     4648  ...     3891     1171     3748   \n",
      "A0A024RBG1      7167    12954     6062  ...     6128    13426    11632   \n",
      "A0A075B6H7     13077     5706    13603  ...     8522     4983    17139   \n",
      "A0A075B6H8     17839    13542    18279  ...    16281    17452    15743   \n",
      "A0A075B6I4     15828     3173    12544  ...     7108    13464    17351   \n",
      "\n",
      "             DB15494  DB15495  DB15496  DB15498  DB15565  DB15566  DB15569  \n",
      "Target Name                                                                 \n",
      "A0A024R1R8      4253    11423     1133      759     2906    10880     3215  \n",
      "A0A024RBG1     13045     7843    11606    12283     6085     8317     6847  \n",
      "A0A075B6H7      7019    11599    14447    10948     7213     9970     6981  \n",
      "A0A075B6H8     16450    14665    11999    14657    15424    16056    15160  \n",
      "A0A075B6I4     13599    11961    13083    14253    15178    14202    16694  \n",
      "\n",
      "[5 rows x 4346 columns]\n"
     ]
    }
   ],
   "source": [
    "print(final_ranked_protein_drug_df.head(5))"
   ]
  },
  {
   "cell_type": "code",
   "execution_count": null,
   "id": "17322226-7835-448b-99d3-3e3953e1ce9c",
   "metadata": {},
   "outputs": [],
   "source": []
  }
 ],
 "metadata": {
  "kernelspec": {
   "display_name": "ProtSol",
   "language": "python",
   "name": "protsol"
  },
  "language_info": {
   "codemirror_mode": {
    "name": "ipython",
    "version": 3
   },
   "file_extension": ".py",
   "mimetype": "text/x-python",
   "name": "python",
   "nbconvert_exporter": "python",
   "pygments_lexer": "ipython3",
   "version": "3.11.3"
  },
  "widgets": {
   "application/vnd.jupyter.widget-state+json": {
    "state": {},
    "version_major": 2,
    "version_minor": 0
   }
  }
 },
 "nbformat": 4,
 "nbformat_minor": 5
}
