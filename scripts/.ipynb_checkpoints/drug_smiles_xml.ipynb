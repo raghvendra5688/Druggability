{
 "cells": [
  {
   "cell_type": "code",
   "execution_count": 3,
   "id": "ceb9a33c",
   "metadata": {},
   "outputs": [
    {
     "name": "stdout",
     "output_type": "stream",
     "text": [
      "Collecting untangle\n",
      "  Downloading untangle-1.2.1-py3-none-any.whl (4.8 kB)\n",
      "Requirement already satisfied: defusedxml<0.8.0,>=0.7.1 in /home/Raghvendra.Mall/anaconda3/envs/ProtSol/lib/python3.11/site-packages (from untangle) (0.7.1)\n",
      "Installing collected packages: untangle\n",
      "Successfully installed untangle-1.2.1\n"
     ]
    }
   ],
   "source": [
    "!pip install untangle\n",
    "import untangle\n",
    "import pandas as pd\n",
    "import numpy as np\n",
    "import os"
   ]
  },
  {
   "cell_type": "code",
   "execution_count": 4,
   "id": "90f92eba",
   "metadata": {},
   "outputs": [],
   "source": [
    "#takes couple of minutes\n",
    "filename=\"../../../General_Data/drug_Full_DB.xml\" # DrugBank Version 6\n",
    "obj=untangle.parse(filename)"
   ]
  },
  {
   "cell_type": "code",
   "execution_count": 5,
   "id": "e38919dd",
   "metadata": {},
   "outputs": [
    {
     "data": {
      "text/html": [
       "<div>\n",
       "<style scoped>\n",
       "    .dataframe tbody tr th:only-of-type {\n",
       "        vertical-align: middle;\n",
       "    }\n",
       "\n",
       "    .dataframe tbody tr th {\n",
       "        vertical-align: top;\n",
       "    }\n",
       "\n",
       "    .dataframe thead th {\n",
       "        text-align: right;\n",
       "    }\n",
       "</style>\n",
       "<table border=\"1\" class=\"dataframe\">\n",
       "  <thead>\n",
       "    <tr style=\"text-align: right;\">\n",
       "      <th></th>\n",
       "      <th>drug_id</th>\n",
       "      <th>name</th>\n",
       "      <th>cas</th>\n",
       "      <th>smiles</th>\n",
       "      <th>logP ALOGPS</th>\n",
       "      <th>logP ChemAxon</th>\n",
       "      <th>solubility ALOGPS</th>\n",
       "      <th>pKa (strongest acidic)</th>\n",
       "      <th>pKa (strongest basic)</th>\n",
       "    </tr>\n",
       "  </thead>\n",
       "  <tbody>\n",
       "  </tbody>\n",
       "</table>\n",
       "</div>"
      ],
      "text/plain": [
       "Empty DataFrame\n",
       "Columns: [drug_id, name, cas, smiles, logP ALOGPS, logP ChemAxon, solubility ALOGPS, pKa (strongest acidic), pKa (strongest basic)]\n",
       "Index: []"
      ]
     },
     "execution_count": 5,
     "metadata": {},
     "output_type": "execute_result"
    }
   ],
   "source": [
    "#Data Frame of Small Molecule Type Drugs\n",
    "df_drug_sm=pd.DataFrame(columns=[\"drug_id\",\"name\",\"cas\",\"smiles\",\"logP ALOGPS\", \"logP ChemAxon\", \"solubility ALOGPS\", \"pKa (strongest acidic)\", \"pKa (strongest basic)\"])\n",
    "df_drug_sm"
   ]
  },
  {
   "cell_type": "code",
   "execution_count": 6,
   "id": "97f7626a",
   "metadata": {
    "lines_to_next_cell": 2
   },
   "outputs": [],
   "source": [
    "# Takes around 10 minutes to run.\n",
    "i=-1\n",
    "#iterate over drug entries to extract information\n",
    "for drug in obj.drugbank.drug:\n",
    "    drug_type= str(drug[\"type\"])\n",
    "    \n",
    "    # select for small molecule drugs\n",
    "    if drug_type in [\"small molecule\", \"Small Molecule\", \"Small molecule\"]:\n",
    "        i=i+1    \n",
    "        \n",
    "        #Get drug_id\n",
    "        for id in drug.drugbank_id:\n",
    "            if str(id[\"primary\"])==\"true\":\n",
    "                df_drug_sm.loc[i, \"drug_id\"]=id.cdata\n",
    "        \n",
    "        #Drug name\n",
    "        df_drug_sm.loc[i,\"name\"]=drug.name.cdata\n",
    "        \n",
    "        #Drug CAS\n",
    "        df_drug_sm.loc[i, \"cas\"]=drug.cas_number.cdata\n",
    "        \n",
    "        #Get SMILES, logP, Solubility\n",
    "        #Skip drugs with no structure. (\"DB00386\",\"DB00407\",\"DB00702\",\"DB00785\",\"DB00840\",\n",
    "        #                                            \"DB00893\",\"DB00930\",\"DB00965\", \"DB01109\",\"DB01266\",\n",
    "        #                                           \"DB01323\", \"DB01341\"...)\n",
    "        if len(drug.calculated_properties.cdata)==0: #If there is no calculated properties\n",
    "            continue\n",
    "        else:\n",
    "            for property in drug.calculated_properties.property:\n",
    "                if property.kind.cdata == \"SMILES\":\n",
    "                    df_drug_sm.loc[i, \"smiles\"]=property.value.cdata\n",
    "                    \n",
    "                if property.kind.cdata == \"logP\":\n",
    "                    if property.source.cdata == \"ALOGPS\":\n",
    "                        df_drug_sm.loc[i, \"logP ALOGPS\"]=property.value.cdata\n",
    "                    if property.source.cdata == \"ChemAxon\":\n",
    "                        df_drug_sm.loc[i, \"logP ChemAxon\"]=property.value.cdata\n",
    "                \n",
    "                if property.kind.cdata == \"Water Solubility\":\n",
    "                    df_drug_sm.loc[i, \"solubility ALOGPS\"]=property.value.cdata\n",
    "                \n",
    "                if property.kind.cdata == \"pKa (strongest acidic)\":\n",
    "                    df_drug_sm.loc[i, \"pKa (strongest acidic)\"]=property.value.cdata\n",
    "                \n",
    "                if property.kind.cdata == \"pKa (strongest basic)\":\n",
    "                    df_drug_sm.loc[i, \"pKa (strongest basic)\"]=property.value.cdata"
   ]
  },
  {
   "cell_type": "code",
   "execution_count": 11,
   "id": "5e327a33",
   "metadata": {
    "lines_to_next_cell": 2
   },
   "outputs": [
    {
     "data": {
      "text/plain": [
       "(11355, 9)"
      ]
     },
     "execution_count": 11,
     "metadata": {},
     "output_type": "execute_result"
    }
   ],
   "source": [
    "df_drug_sm.shape"
   ]
  },
  {
   "cell_type": "code",
   "execution_count": 10,
   "id": "360d58ff",
   "metadata": {},
   "outputs": [
    {
     "name": "stdout",
     "output_type": "stream",
     "text": [
      "(8266, 9)\n"
     ]
    }
   ],
   "source": [
    "#Drop drugs without SMILES from the dataframe\n",
    "df_drug_smiles = df_drug_sm.dropna()\n",
    "df_drug_smiles= df_drug_smiles.reset_index(drop=True)\n",
    "print(df_drug_smiles.shape)"
   ]
  },
  {
   "cell_type": "code",
   "execution_count": 13,
   "id": "58da234c",
   "metadata": {},
   "outputs": [
    {
     "ename": "TypeError",
     "evalue": "\"delimiter\" must be a 1-character string",
     "output_type": "error",
     "traceback": [
      "\u001b[0;31m---------------------------------------------------------------------------\u001b[0m",
      "\u001b[0;31mTypeError\u001b[0m                                 Traceback (most recent call last)",
      "Cell \u001b[0;32mIn[13], line 2\u001b[0m\n\u001b[1;32m      1\u001b[0m \u001b[38;5;66;03m#write to csv\u001b[39;00m\n\u001b[0;32m----> 2\u001b[0m df_drug_smiles\u001b[38;5;241m.\u001b[39mto_csv(\u001b[38;5;124m\"\u001b[39m\u001b[38;5;124m../../Data/smiles.csv\u001b[39m\u001b[38;5;124m\"\u001b[39m, encoding\u001b[38;5;241m=\u001b[39m\u001b[38;5;124m'\u001b[39m\u001b[38;5;124mutf-8\u001b[39m\u001b[38;5;124m'\u001b[39m, sep\u001b[38;5;241m=\u001b[39m\u001b[38;5;124m\"\u001b[39m\u001b[38;5;124m | \u001b[39m\u001b[38;5;124m\"\u001b[39m, index\u001b[38;5;241m=\u001b[39m\u001b[38;5;28;01mFalse\u001b[39;00m)\n",
      "File \u001b[0;32m~/anaconda3/envs/ProtSol/lib/python3.11/site-packages/pandas/util/_decorators.py:333\u001b[0m, in \u001b[0;36mdeprecate_nonkeyword_arguments.<locals>.decorate.<locals>.wrapper\u001b[0;34m(*args, **kwargs)\u001b[0m\n\u001b[1;32m    327\u001b[0m \u001b[38;5;28;01mif\u001b[39;00m \u001b[38;5;28mlen\u001b[39m(args) \u001b[38;5;241m>\u001b[39m num_allow_args:\n\u001b[1;32m    328\u001b[0m     warnings\u001b[38;5;241m.\u001b[39mwarn(\n\u001b[1;32m    329\u001b[0m         msg\u001b[38;5;241m.\u001b[39mformat(arguments\u001b[38;5;241m=\u001b[39m_format_argument_list(allow_args)),\n\u001b[1;32m    330\u001b[0m         \u001b[38;5;167;01mFutureWarning\u001b[39;00m,\n\u001b[1;32m    331\u001b[0m         stacklevel\u001b[38;5;241m=\u001b[39mfind_stack_level(),\n\u001b[1;32m    332\u001b[0m     )\n\u001b[0;32m--> 333\u001b[0m \u001b[38;5;28;01mreturn\u001b[39;00m func(\u001b[38;5;241m*\u001b[39margs, \u001b[38;5;241m*\u001b[39m\u001b[38;5;241m*\u001b[39mkwargs)\n",
      "File \u001b[0;32m~/anaconda3/envs/ProtSol/lib/python3.11/site-packages/pandas/core/generic.py:3967\u001b[0m, in \u001b[0;36mNDFrame.to_csv\u001b[0;34m(self, path_or_buf, sep, na_rep, float_format, columns, header, index, index_label, mode, encoding, compression, quoting, quotechar, lineterminator, chunksize, date_format, doublequote, escapechar, decimal, errors, storage_options)\u001b[0m\n\u001b[1;32m   3956\u001b[0m df \u001b[38;5;241m=\u001b[39m \u001b[38;5;28mself\u001b[39m \u001b[38;5;28;01mif\u001b[39;00m \u001b[38;5;28misinstance\u001b[39m(\u001b[38;5;28mself\u001b[39m, ABCDataFrame) \u001b[38;5;28;01melse\u001b[39;00m \u001b[38;5;28mself\u001b[39m\u001b[38;5;241m.\u001b[39mto_frame()\n\u001b[1;32m   3958\u001b[0m formatter \u001b[38;5;241m=\u001b[39m DataFrameFormatter(\n\u001b[1;32m   3959\u001b[0m     frame\u001b[38;5;241m=\u001b[39mdf,\n\u001b[1;32m   3960\u001b[0m     header\u001b[38;5;241m=\u001b[39mheader,\n\u001b[0;32m   (...)\u001b[0m\n\u001b[1;32m   3964\u001b[0m     decimal\u001b[38;5;241m=\u001b[39mdecimal,\n\u001b[1;32m   3965\u001b[0m )\n\u001b[0;32m-> 3967\u001b[0m \u001b[38;5;28;01mreturn\u001b[39;00m DataFrameRenderer(formatter)\u001b[38;5;241m.\u001b[39mto_csv(\n\u001b[1;32m   3968\u001b[0m     path_or_buf,\n\u001b[1;32m   3969\u001b[0m     lineterminator\u001b[38;5;241m=\u001b[39mlineterminator,\n\u001b[1;32m   3970\u001b[0m     sep\u001b[38;5;241m=\u001b[39msep,\n\u001b[1;32m   3971\u001b[0m     encoding\u001b[38;5;241m=\u001b[39mencoding,\n\u001b[1;32m   3972\u001b[0m     errors\u001b[38;5;241m=\u001b[39merrors,\n\u001b[1;32m   3973\u001b[0m     compression\u001b[38;5;241m=\u001b[39mcompression,\n\u001b[1;32m   3974\u001b[0m     quoting\u001b[38;5;241m=\u001b[39mquoting,\n\u001b[1;32m   3975\u001b[0m     columns\u001b[38;5;241m=\u001b[39mcolumns,\n\u001b[1;32m   3976\u001b[0m     index_label\u001b[38;5;241m=\u001b[39mindex_label,\n\u001b[1;32m   3977\u001b[0m     mode\u001b[38;5;241m=\u001b[39mmode,\n\u001b[1;32m   3978\u001b[0m     chunksize\u001b[38;5;241m=\u001b[39mchunksize,\n\u001b[1;32m   3979\u001b[0m     quotechar\u001b[38;5;241m=\u001b[39mquotechar,\n\u001b[1;32m   3980\u001b[0m     date_format\u001b[38;5;241m=\u001b[39mdate_format,\n\u001b[1;32m   3981\u001b[0m     doublequote\u001b[38;5;241m=\u001b[39mdoublequote,\n\u001b[1;32m   3982\u001b[0m     escapechar\u001b[38;5;241m=\u001b[39mescapechar,\n\u001b[1;32m   3983\u001b[0m     storage_options\u001b[38;5;241m=\u001b[39mstorage_options,\n\u001b[1;32m   3984\u001b[0m )\n",
      "File \u001b[0;32m~/anaconda3/envs/ProtSol/lib/python3.11/site-packages/pandas/io/formats/format.py:1014\u001b[0m, in \u001b[0;36mDataFrameRenderer.to_csv\u001b[0;34m(self, path_or_buf, encoding, sep, columns, index_label, mode, compression, quoting, quotechar, lineterminator, chunksize, date_format, doublequote, escapechar, errors, storage_options)\u001b[0m\n\u001b[1;32m    993\u001b[0m     created_buffer \u001b[38;5;241m=\u001b[39m \u001b[38;5;28;01mFalse\u001b[39;00m\n\u001b[1;32m    995\u001b[0m csv_formatter \u001b[38;5;241m=\u001b[39m CSVFormatter(\n\u001b[1;32m    996\u001b[0m     path_or_buf\u001b[38;5;241m=\u001b[39mpath_or_buf,\n\u001b[1;32m    997\u001b[0m     lineterminator\u001b[38;5;241m=\u001b[39mlineterminator,\n\u001b[0;32m   (...)\u001b[0m\n\u001b[1;32m   1012\u001b[0m     formatter\u001b[38;5;241m=\u001b[39m\u001b[38;5;28mself\u001b[39m\u001b[38;5;241m.\u001b[39mfmt,\n\u001b[1;32m   1013\u001b[0m )\n\u001b[0;32m-> 1014\u001b[0m csv_formatter\u001b[38;5;241m.\u001b[39msave()\n\u001b[1;32m   1016\u001b[0m \u001b[38;5;28;01mif\u001b[39;00m created_buffer:\n\u001b[1;32m   1017\u001b[0m     \u001b[38;5;28;01massert\u001b[39;00m \u001b[38;5;28misinstance\u001b[39m(path_or_buf, StringIO)\n",
      "File \u001b[0;32m~/anaconda3/envs/ProtSol/lib/python3.11/site-packages/pandas/io/formats/csvs.py:260\u001b[0m, in \u001b[0;36mCSVFormatter.save\u001b[0;34m(self)\u001b[0m\n\u001b[1;32m    250\u001b[0m \u001b[38;5;66;03m# apply compression and byte/text conversion\u001b[39;00m\n\u001b[1;32m    251\u001b[0m \u001b[38;5;28;01mwith\u001b[39;00m get_handle(\n\u001b[1;32m    252\u001b[0m     \u001b[38;5;28mself\u001b[39m\u001b[38;5;241m.\u001b[39mfilepath_or_buffer,\n\u001b[1;32m    253\u001b[0m     \u001b[38;5;28mself\u001b[39m\u001b[38;5;241m.\u001b[39mmode,\n\u001b[0;32m   (...)\u001b[0m\n\u001b[1;32m    258\u001b[0m ) \u001b[38;5;28;01mas\u001b[39;00m handles:\n\u001b[1;32m    259\u001b[0m     \u001b[38;5;66;03m# Note: self.encoding is irrelevant here\u001b[39;00m\n\u001b[0;32m--> 260\u001b[0m     \u001b[38;5;28mself\u001b[39m\u001b[38;5;241m.\u001b[39mwriter \u001b[38;5;241m=\u001b[39m csvlib\u001b[38;5;241m.\u001b[39mwriter(\n\u001b[1;32m    261\u001b[0m         handles\u001b[38;5;241m.\u001b[39mhandle,\n\u001b[1;32m    262\u001b[0m         lineterminator\u001b[38;5;241m=\u001b[39m\u001b[38;5;28mself\u001b[39m\u001b[38;5;241m.\u001b[39mlineterminator,\n\u001b[1;32m    263\u001b[0m         delimiter\u001b[38;5;241m=\u001b[39m\u001b[38;5;28mself\u001b[39m\u001b[38;5;241m.\u001b[39msep,\n\u001b[1;32m    264\u001b[0m         quoting\u001b[38;5;241m=\u001b[39m\u001b[38;5;28mself\u001b[39m\u001b[38;5;241m.\u001b[39mquoting,\n\u001b[1;32m    265\u001b[0m         doublequote\u001b[38;5;241m=\u001b[39m\u001b[38;5;28mself\u001b[39m\u001b[38;5;241m.\u001b[39mdoublequote,\n\u001b[1;32m    266\u001b[0m         escapechar\u001b[38;5;241m=\u001b[39m\u001b[38;5;28mself\u001b[39m\u001b[38;5;241m.\u001b[39mescapechar,\n\u001b[1;32m    267\u001b[0m         quotechar\u001b[38;5;241m=\u001b[39m\u001b[38;5;28mself\u001b[39m\u001b[38;5;241m.\u001b[39mquotechar,\n\u001b[1;32m    268\u001b[0m     )\n\u001b[1;32m    270\u001b[0m     \u001b[38;5;28mself\u001b[39m\u001b[38;5;241m.\u001b[39m_save()\n",
      "\u001b[0;31mTypeError\u001b[0m: \"delimiter\" must be a 1-character string"
     ]
    }
   ],
   "source": [
    "#write to csv\n",
    "df_drug_smiles.to_csv(\"../../Data/smiles.csv\", encoding='utf-8', sep=\" | \", index=False)"
   ]
  },
  {
   "cell_type": "code",
   "execution_count": null,
   "id": "44f098a5",
   "metadata": {},
   "outputs": [],
   "source": []
  }
 ],
 "metadata": {
  "kernelspec": {
   "display_name": "ProtSol",
   "language": "python",
   "name": "protsol"
  },
  "language_info": {
   "codemirror_mode": {
    "name": "ipython",
    "version": 3
   },
   "file_extension": ".py",
   "mimetype": "text/x-python",
   "name": "python",
   "nbconvert_exporter": "python",
   "pygments_lexer": "ipython3",
   "version": "3.11.3"
  },
  "widgets": {
   "application/vnd.jupyter.widget-state+json": {
    "state": {},
    "version_major": 2,
    "version_minor": 0
   }
  }
 },
 "nbformat": 4,
 "nbformat_minor": 5
}
