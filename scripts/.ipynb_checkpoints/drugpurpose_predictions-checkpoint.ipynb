{
 "cells": [
  {
   "cell_type": "code",
   "execution_count": null,
   "id": "9b719700-fed3-4d8a-b6f7-14713286e0bd",
   "metadata": {},
   "outputs": [],
   "source": [
    "import os\n",
    "import pandas as pd\n",
    "from DeepPurpose import utils\n",
    "from DeepPurpose import DTI as models\n",
    "import numpy as np\n",
    "import time"
   ]
  },
  {
   "cell_type": "code",
   "execution_count": null,
   "id": "c17ad5c9-6ff3-4d4f-8913-7481ae7970ba",
   "metadata": {},
   "outputs": [],
   "source": [
    "#Make the function to get dti virtual screening\n",
    "common_path = '/home/Raghvendra.Mall/TII/Projects/Raghav/CAR-T/Druggability_Score/'\n",
    "\n",
    "def DTI_pred(drugs, targets, model_name, drug_names, target_names):\n",
    "    model = models.model_pretrained(common_path+\"Models/pretrained_models/\"+model_name)\n",
    "    model.config['batch_size']=6144\n",
    "    print(model.config)\n",
    "\n",
    "    #Get predictions using virtual screening\n",
    "    y_pred = models.virtual_screening(drugs, targets, model, drug_names = drug_names, target_names = target_names, result_folder = common_path+\"Results/\"+model_name, convert_y = False, output_num_max = 10, verbose = True)\n",
    "    return(y_pred)"
   ]
  },
  {
   "cell_type": "code",
   "execution_count": null,
   "id": "93d9b589-d7c4-4d75-887f-d7adbf95ebe1",
   "metadata": {},
   "outputs": [],
   "source": [
    "#Load the drug SMILES dataset and protein sequence dataset\n",
    "drug_target_interactions_df = pd.read_csv(\"../Data/drug_protein_interactions.csv\",header=\"infer\",sep=\"|\")\n",
    "\n",
    "N_drugs = drug_target_interactions_df.shape[0]\n",
    "\n",
    "#Get list of drug smiles and drug ids\n",
    "drug_smiles = drug_target_interactions_df[\"smiles\"].tolist()\n",
    "drug_names = drug_target_interactions_df[\"drug_id\"].tolist()\n",
    "\n",
    "filtered_alphafold_df = pd.read_csv(\"../Data/Filtered_AlphaFold_UniProtKB_with_Sequence.csv\",header=\"infer\",sep=\",\")\n",
    "filtered_alphafold_df.head()\n",
    "\n",
    "duplicate_sequence_df = filtered_alphafold_df.loc[filtered_alphafold_df.groupby('Protein_Sequence').UniProtId.transform('nunique').gt(1)]\n",
    "duplicate_sequence_df.to_csv(\"../Data/Filtered_AlphaFold_UniProtKB_with_Duplicate_Sequences.csv\",index=False,sep=\",\")\n",
    "\n",
    "rev_filtered_alphafold_df = filtered_alphafold_df.drop_duplicates(subset=['Protein_Sequence'])\n",
    "print(rev_filtered_alphafold_df.shape)\n",
    "\n",
    "N_proteins = rev_filtered_alphafold_df.shape[0]\n",
    "protein_seqs = rev_filtered_alphafold_df[\"Protein_Sequence\"].tolist()\n",
    "protein_names = rev_filtered_alphafold_df[\"UniProtId\"].tolist()\n",
    "\n",
    "revised_protein_seqs = protein_seqs * N_drugs\n",
    "revised_protein_names = protein_names * N_drugs\n",
    "print(len(revised_protein_seqs))"
   ]
  },
  {
   "cell_type": "code",
   "execution_count": null,
   "id": "993f1473-9b86-4e9f-9a01-af02c40ab097",
   "metadata": {},
   "outputs": [],
   "source": [
    "#Make the large list for smiles and drug names\n",
    "revised_drug_smiles, revised_drug_names=[],[]\n",
    "for i in range(N_drugs):\n",
    "    for j in range(N_proteins):\n",
    "        revised_drug_smiles.append(drug_smiles[i])\n",
    "        revised_drug_names.append(drug_names[i])"
   ]
  },
  {
   "cell_type": "code",
   "execution_count": null,
   "id": "a46ddfb0-2f8c-4342-bf86-89d56926b859",
   "metadata": {},
   "outputs": [],
   "source": [
    "model_names = [\"CNN_CNN_BindingDB_IC50\",\"MPNN_CNN_DAVIS\",\"Morgan_CNN_BindingDB_IC50\",\"Morgan_AAC_BindingDB_IC50\",\"Daylight_AAC_BindingDB_IC50\",\"CNN_CNN_DAVIS\",\n",
    "               \"CNN_CNN_BindingDB\",\"Morgan_CNN_BindingDB\",\"Morgan_CNN_DAVIS\",\"MPNN_CNN_BindingDB\",\"MPNN_CNN_KIBA\",\"Transformer_CNN_BindingDB\",\n",
    "               \"Daylight_AAC_DAVIS\",\"Daylight_AAC_KIBA\",\"Daylight_AAC_BindingDB\",\"Morgan_AAC_BindingDB\",\"Morgan_AAC_KIBA\",\"Morgan_AAC_DAVIS\")\n",
    "\n",
    "#Already ran code for CNN_CNN_BindingDB\n",
    "for i in range(1,len(model_names)):\n",
    "    model_name = model_names[i]\n",
    "    start_time = time.time()\n",
    "    predictions = DTI_pred(revised_drug_smiles, revised_protein_seqs, model_name, revised_drug_names, revised_protein_names)\n",
    "    finish_time = time.time()-start_time\n",
    "\n",
    "    #Move the results accordingly\n",
    "    os.system(\"mv ../Results/\"+model_name+\"/virtual_screening.txt ../Results/\"+model_name+\"/\"+model_name+\"_virtual_screening.csv\")\n",
    "    os.system(\"mv ../Results/\"+model_name+\" ../../General_Data/virtual_screenings/\")\n"
   ]
  },
  {
   "cell_type": "code",
   "execution_count": null,
   "id": "d30c0f51-4e30-4d1a-9a7d-9dd8dcac98d5",
   "metadata": {},
   "outputs": [],
   "source": []
  }
 ],
 "metadata": {
  "kernelspec": {
   "display_name": "ProtSol",
   "language": "python",
   "name": "protsol"
  },
  "language_info": {
   "codemirror_mode": {
    "name": "ipython",
    "version": 3
   },
   "file_extension": ".py",
   "mimetype": "text/x-python",
   "name": "python",
   "nbconvert_exporter": "python",
   "pygments_lexer": "ipython3",
   "version": "3.11.3"
  },
  "widgets": {
   "application/vnd.jupyter.widget-state+json": {
    "state": {},
    "version_major": 2,
    "version_minor": 0
   }
  }
 },
 "nbformat": 4,
 "nbformat_minor": 5
}
