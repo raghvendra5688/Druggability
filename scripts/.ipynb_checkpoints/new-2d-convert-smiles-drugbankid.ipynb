{
 "cells": [
  {
   "cell_type": "code",
   "execution_count": 1,
   "id": "4397ec1c",
   "metadata": {},
   "outputs": [],
   "source": [
    "import pandas as pd\n",
    "from rdkit import Chem\n",
    "from rdkit.Chem import AllChem"
   ]
  },
  {
   "cell_type": "code",
   "execution_count": 2,
   "id": "fdc91780",
   "metadata": {},
   "outputs": [
    {
     "data": {
      "text/plain": [
       "Index(['drug_id', 'name', 'cas', 'smiles', 'logP ALOGPS', 'logP ChemAxon',\n",
       "       'solubility ALOGPS', 'pKa (strongest acidic)', 'pKa (strongest basic)',\n",
       "       'drugname', 'drug_type', 'approved', 'experimental', 'illicit',\n",
       "       'investigational', 'nutraceutical', 'withdrawn', 'collated_partner_id',\n",
       "       'collated_gene_name', 'collated_target_type', 'collated_inhibitor',\n",
       "       'collated_inducer'],\n",
       "      dtype='object')"
      ]
     },
     "execution_count": 2,
     "metadata": {},
     "output_type": "execute_result"
    }
   ],
   "source": [
    "# Load your data into a DataFrame (assuming 'data.csv' contains your data)\n",
    "df = pd.read_csv('../Data/drug_protein_interactions.csv', sep=\"|\")\n",
    "df.columns"
   ]
  },
  {
   "cell_type": "code",
   "execution_count": 3,
   "id": "3cd9e299",
   "metadata": {},
   "outputs": [],
   "source": [
    "# Define indices or identifiers of molecules to remove due to bad conformer IDs\n",
    "indices_to_remove = []"
   ]
  },
  {
   "cell_type": "code",
   "execution_count": 4,
   "id": "8548e2f4",
   "metadata": {},
   "outputs": [
    {
     "name": "stderr",
     "output_type": "stream",
     "text": [
      "[10:03:09] UFFTYPER: Unrecognized atom type: Co5+3 (45)\n",
      "[10:03:13] UFFTYPER: Unrecognized charge state for atom: 4\n",
      "[10:03:13] UFFTYPER: Unrecognized charge state for atom: 4\n",
      "[10:03:26] UFFTYPER: Unrecognized charge state for atom: 93\n",
      "[10:03:34] UFFTYPER: Warning: hybridization set to SP3 for atom 1\n",
      "[10:03:34] UFFTYPER: Warning: hybridization set to SP3 for atom 1\n",
      "[10:03:34] UFFTYPER: Warning: hybridization set to SP3 for atom 18\n",
      "[10:03:34] UFFTYPER: Warning: hybridization set to SP3 for atom 31\n",
      "[10:03:34] UFFTYPER: Warning: hybridization set to SP3 for atom 40\n",
      "[10:03:34] UFFTYPER: Warning: hybridization set to SP3 for atom 49\n",
      "[10:03:34] UFFTYPER: Warning: hybridization set to SP3 for atom 58\n",
      "[10:03:34] UFFTYPER: Warning: hybridization set to SP3 for atom 67\n",
      "[10:03:34] UFFTYPER: Warning: hybridization set to SP3 for atom 76\n",
      "[10:05:39] UFFTYPER: Unrecognized charge state for atom: 0\n",
      "[10:05:39] UFFTYPER: Unrecognized atom type: Gd2+3 (0)\n",
      "[10:05:39] UFFTYPER: Unrecognized charge state for atom: 0\n",
      "[10:05:39] UFFTYPER: Unrecognized atom type: Gd2+3 (0)\n",
      "[10:19:41] UFFTYPER: Warning: hybridization set to SP3 for atom 20\n",
      "[10:19:41] UFFTYPER: Warning: hybridization set to SP3 for atom 20\n",
      "[10:19:43] UFFTYPER: Warning: hybridization set to SP3 for atom 0\n",
      "[10:19:43] UFFTYPER: Unrecognized charge state for atom: 0\n",
      "[10:19:43] UFFTYPER: Warning: hybridization set to SP3 for atom 0\n",
      "[10:19:43] UFFTYPER: Unrecognized charge state for atom: 0\n",
      "[10:22:21] UFFTYPER: Unrecognized atom type: Fe1+2 (0)\n",
      "[10:22:21] UFFTYPER: Unrecognized atom type: Fe1+2 (0)\n",
      "[10:22:43] Explicit valence for atom # 13 Cl, 5, is greater than permitted\n"
     ]
    },
    {
     "name": "stdout",
     "output_type": "stream",
     "text": [
      "Failed to create molecule from SMILES: NC1=C(C2=C(N)N=C(N)N=C2C=C1)[Cl](=O)=O\n"
     ]
    },
    {
     "name": "stderr",
     "output_type": "stream",
     "text": [
      "[10:22:55] UFFTYPER: Unrecognized atom type: W_3 (15)\n",
      "[10:22:55] UFFTYPER: Unrecognized atom type: W_3 (19)\n",
      "[10:22:55] UFFTYPER: Unrecognized atom type: W_3 (15)\n",
      "[10:22:55] UFFTYPER: Unrecognized atom type: W_3 (19)\n",
      "[10:23:04] UFFTYPER: Unrecognized atom type: W_3 (15)\n",
      "[10:23:04] UFFTYPER: Unrecognized atom type: W_3 (15)\n",
      "[10:23:10] UFFTYPER: Unrecognized atom type: S_5+4 (16)\n",
      "[10:23:10] UFFTYPER: Unrecognized atom type: S_5+4 (16)\n",
      "[10:23:34] UFFTYPER: Unrecognized charge state for atom: 7\n",
      "[10:23:34] UFFTYPER: Unrecognized charge state for atom: 7\n",
      "[10:23:37] UFFTYPER: Unrecognized atom type: Se2+2 (5)\n",
      "[10:23:37] UFFTYPER: Unrecognized atom type: Se2+2 (5)\n",
      "[10:24:01] UFFTYPER: Unrecognized atom type: Zn1+2 (16)\n",
      "[10:24:01] UFFTYPER: Unrecognized atom type: Zn1+2 (16)\n",
      "[10:24:04] UFFTYPER: Unrecognized atom type: V_5+5 (7)\n",
      "[10:24:04] UFFTYPER: Unrecognized atom type: V_5+5 (7)\n",
      "[10:24:04] \n",
      "\n",
      "****\n",
      "Pre-condition Violation\n",
      "bad params pointer\n",
      "Violation occurred on line 75 in file /project/build/temp.linux-x86_64-cpython-311/rdkit/Code/ForceField/UFF/AngleBend.cpp\n",
      "Failed Expression: at2Params\n",
      "****\n",
      "\n"
     ]
    },
    {
     "name": "stdout",
     "output_type": "stream",
     "text": [
      "UFF optimization failed for molecule with DrugbankID DB03512: OC[C@@H]1O[C@H]([C@H]2O[V](O)(O)(=O)O[C@H]12)N1C=CC(=O)NC1=O\n",
      "Pre-condition Violation\n",
      "\tbad params pointer\n",
      "\tViolation occurred on line 75 in file Code/ForceField/UFF/AngleBend.cpp\n",
      "\tFailed Expression: at2Params\n",
      "\tRDKIT: 2023.03.2\n",
      "\tBOOST: 1_78\n",
      "\n"
     ]
    },
    {
     "name": "stderr",
     "output_type": "stream",
     "text": [
      "[10:24:26] UFFTYPER: Unrecognized atom type: Mo5+6 (20)\n",
      "[10:24:26] UFFTYPER: Unrecognized atom type: Mo5+6 (20)\n",
      "[10:24:26] \n",
      "\n",
      "****\n",
      "Pre-condition Violation\n",
      "bad params pointer\n",
      "Violation occurred on line 75 in file /project/build/temp.linux-x86_64-cpython-311/rdkit/Code/ForceField/UFF/AngleBend.cpp\n",
      "Failed Expression: at2Params\n",
      "****\n",
      "\n"
     ]
    },
    {
     "name": "stdout",
     "output_type": "stream",
     "text": [
      "UFF optimization failed for molecule with DrugbankID DB03983: NC1=NC2=C(N[C@@H]3[C@H](N2)O[C@@H](COP(O)(O)=O)C2=C3S[Mo](S)(=O)(=O)S2)C(=O)N1\n",
      "Pre-condition Violation\n",
      "\tbad params pointer\n",
      "\tViolation occurred on line 75 in file Code/ForceField/UFF/AngleBend.cpp\n",
      "\tFailed Expression: at2Params\n",
      "\tRDKIT: 2023.03.2\n",
      "\tBOOST: 1_78\n",
      "\n"
     ]
    },
    {
     "name": "stderr",
     "output_type": "stream",
     "text": [
      "[10:24:27] UFFTYPER: Unrecognized atom type: Zn1+2 (10)\n",
      "[10:24:27] UFFTYPER: Unrecognized atom type: Zn1+2 (10)\n",
      "[10:24:34] Explicit valence for atom # 6 Be, 4, is greater than permitted\n"
     ]
    },
    {
     "name": "stdout",
     "output_type": "stream",
     "text": [
      "Failed to create molecule from SMILES: N[C@@H](C[C@H](O)O[Be](F)(F)F)C(O)=O\n"
     ]
    },
    {
     "name": "stderr",
     "output_type": "stream",
     "text": [
      "[10:24:36] UFFTYPER: Warning: hybridization set to SP for atom 7\n",
      "[10:24:36] UFFTYPER: Unrecognized charge state for atom: 7\n",
      "[10:24:36] UFFTYPER: Warning: hybridization set to SP for atom 7\n",
      "[10:24:36] UFFTYPER: Unrecognized charge state for atom: 7\n",
      "[10:24:38] Unusual charge on atom 0 number of radical electrons set to zero\n",
      "[10:24:38] Unusual charge on atom 0 number of radical electrons set to zero\n",
      "[10:24:38] UFFTYPER: Unrecognized hybridization for atom: 0\n",
      "[10:24:38] UFFTYPER: Unrecognized charge state for atom: 0\n",
      "[10:24:38] UFFTYPER: Unrecognized atom type: Zn+2 (0)\n",
      "[10:24:38] UFFTYPER: Unrecognized hybridization for atom: 0\n",
      "[10:24:38] UFFTYPER: Unrecognized charge state for atom: 0\n",
      "[10:24:38] UFFTYPER: Unrecognized atom type: Zn+2 (0)\n",
      "[10:24:38] Unusual charge on atom 0 number of radical electrons set to zero\n",
      "[10:28:14] UFFTYPER: Warning: hybridization set to SP3 for atom 0\n",
      "[10:28:14] UFFTYPER: Warning: hybridization set to SP3 for atom 2\n",
      "[10:29:59] UFFTYPER: Unrecognized charge state for atom: 0\n",
      "[10:29:59] UFFTYPER: Unrecognized atom type: Ga+3 (0)\n",
      "[10:29:59] UFFTYPER: Unrecognized charge state for atom: 0\n",
      "[10:29:59] UFFTYPER: Unrecognized atom type: Ga+3 (0)\n",
      "[10:29:59] UFFTYPER: Unrecognized charge state for atom: 0\n",
      "[10:29:59] UFFTYPER: Unrecognized atom type: Gd2+3 (0)\n",
      "[10:29:59] Conflicting single bond directions around double bond at index 52.\n",
      "[10:29:59]   BondStereo set to STEREONONE and single bond directions set to NONE.\n",
      "[10:43:27] UFFTYPER: Unrecognized charge state for atom: 0\n",
      "[10:43:27] UFFTYPER: Unrecognized atom type: Ga+3 (0)\n",
      "[10:43:27] UFFTYPER: Unrecognized charge state for atom: 0\n",
      "[10:43:27] UFFTYPER: Unrecognized atom type: Ga+3 (0)\n",
      "[10:43:30] UFFTYPER: Unrecognized atom type: Mn2+2 (0)\n",
      "[10:43:31] UFFTYPER: Unrecognized atom type: Mn2+2 (0)\n",
      "[10:44:06] UFFTYPER: Unrecognized charge state for atom: 4\n",
      "[10:44:06] UFFTYPER: Unrecognized charge state for atom: 4\n",
      "[10:44:36] Explicit valence for atom # 13 Be, 3, is greater than permitted\n"
     ]
    },
    {
     "name": "stdout",
     "output_type": "stream",
     "text": [
      "Failed to create molecule from SMILES: CN(CCO[P@](O)(=O)O[P@@](O)(=O)O[Be-](F)(F)F)C1=CC=CC=C1[N+]([O-])=O\n"
     ]
    },
    {
     "name": "stderr",
     "output_type": "stream",
     "text": [
      "[10:44:53] UFFTYPER: Unrecognized charge state for atom: 7\n",
      "[10:44:53] UFFTYPER: Unrecognized charge state for atom: 7\n",
      "[10:44:58] UFFTYPER: Unrecognized atom type: Pt3+2 (0)\n",
      "[10:44:58] UFFTYPER: Unrecognized atom type: Pt3+2 (3)\n",
      "[10:48:19] UFFTYPER: Unrecognized charge state for atom: 0\n",
      "[10:48:19] UFFTYPER: Unrecognized atom type: Gd2+3 (0)\n",
      "[10:48:19] UFFTYPER: Unrecognized charge state for atom: 0\n",
      "[10:48:19] UFFTYPER: Unrecognized atom type: Gd2+3 (0)\n",
      "[10:48:42] UFFTYPER: Unrecognized atom type: Au6+3 (6)\n",
      "[10:48:42] UFFTYPER: Unrecognized atom type: Au6+3 (6)\n",
      "[10:48:42] UFFTYPER: Unrecognized atom type: Tc3+5 (0)\n",
      "[10:48:42] UFFTYPER: Unrecognized atom type: Tc3+5 (0)\n",
      "[10:48:44] UFFTYPER: Unrecognized atom type: Fe2+2 (0)\n",
      "[10:48:44] UFFTYPER: Unrecognized atom type: Fe2+2 (0)\n",
      "[10:48:44] UFFTYPER: Unrecognized atom type: Fe2+2 (0)\n",
      "[10:48:44] UFFTYPER: Unrecognized atom type: Fe2+2 (0)\n",
      "[10:48:44] UFFTYPER: Unrecognized atom type: Fe2+2 (0)\n",
      "[10:48:44] UFFTYPER: Unrecognized atom type: Fe2+2 (14)\n",
      "[10:48:44] UFFTYPER: Unrecognized atom type: Fe2+2 (15)\n",
      "[10:48:44] UFFTYPER: Unrecognized atom type: Fe2+2 (16)\n",
      "[10:48:44] UFFTYPER: Unrecognized atom type: Fe2+2 (17)\n",
      "[10:48:44] UFFTYPER: Unrecognized atom type: Fe2+2 (18)\n",
      "[10:48:44] UFFTYPER: Unrecognized atom type: Tc2+5 (0)\n",
      "[10:48:44] UFFTYPER: Unrecognized atom type: Tc2+5 (0)\n",
      "[10:48:46] UFFTYPER: Unrecognized charge state for atom: 0\n",
      "[10:48:46] UFFTYPER: Unrecognized atom type: Zn+2 (0)\n",
      "[10:48:46] UFFTYPER: Unrecognized charge state for atom: 0\n",
      "[10:48:46] UFFTYPER: Unrecognized atom type: Zn+2 (0)\n",
      "[10:48:56] UFFTYPER: Unrecognized atom type: Fe2+2 (0)\n",
      "[10:48:56] UFFTYPER: Unrecognized atom type: Fe2+2 (0)\n",
      "[10:48:57] UFFTYPER: Unrecognized atom type: Fe2+2 (4)\n",
      "[10:48:57] UFFTYPER: Unrecognized atom type: Fe2+2 (5)\n",
      "[10:48:58] UFFTYPER: Unrecognized atom type: Ca+2 (0)\n",
      "[10:48:58] UFFTYPER: Unrecognized atom type: Ca+2 (0)\n",
      "[10:48:58] UFFTYPER: Unrecognized atom type: Ca+2 (0)\n",
      "[10:48:58] UFFTYPER: Unrecognized atom type: Ca+2 (0)\n",
      "[10:48:58] UFFTYPER: Unrecognized atom type: Ca+2 (1)\n",
      "[10:48:58] UFFTYPER: Unrecognized atom type: Ca+2 (2)\n",
      "[10:50:13] UFFTYPER: Warning: hybridization set to SP3 for atom 0\n",
      "[10:50:13] UFFTYPER: Unrecognized charge state for atom: 0\n",
      "[10:50:13] UFFTYPER: Warning: hybridization set to SP3 for atom 2\n",
      "[10:50:13] UFFTYPER: Unrecognized charge state for atom: 2\n",
      "[10:50:15] UFFTYPER: Unrecognized atom type: Ca+2 (0)\n",
      "[10:50:15] UFFTYPER: Unrecognized atom type: Ca+2 (0)\n",
      "[10:50:20] UFFTYPER: Unrecognized atom type: Fe2+2 (0)\n",
      "[10:50:20] UFFTYPER: Unrecognized atom type: Fe2+2 (0)\n",
      "[10:50:20] UFFTYPER: Unrecognized atom type: Fe2+2 (0)\n",
      "[10:50:20] UFFTYPER: Unrecognized atom type: Fe2+2 (0)\n",
      "[10:50:20] UFFTYPER: Unrecognized atom type: Fe2+2 (0)\n",
      "[10:50:20] UFFTYPER: Unrecognized atom type: Fe2+2 (1)\n",
      "[10:50:20] UFFTYPER: Unrecognized atom type: Fe2+2 (2)\n",
      "[10:50:20] UFFTYPER: Unrecognized atom type: Fe2+2 (3)\n",
      "[10:50:46] UFFTYPER: Unrecognized atom type: Fe2+2 (0)\n",
      "[10:50:46] UFFTYPER: Unrecognized atom type: Fe2+2 (0)\n",
      "[10:50:46] UFFTYPER: Unrecognized atom type: Fe2+2 (0)\n",
      "[10:50:46] UFFTYPER: Unrecognized atom type: Fe2+2 (0)\n",
      "[10:50:46] UFFTYPER: Unrecognized atom type: Fe2+2 (0)\n",
      "[10:50:46] UFFTYPER: Unrecognized atom type: Fe2+2 (0)\n",
      "[10:50:47] UFFTYPER: Warning: hybridization set to SP3 for atom 0\n",
      "[10:50:47] UFFTYPER: Unrecognized charge state for atom: 0\n",
      "[10:50:47] UFFTYPER: Warning: hybridization set to SP3 for atom 0\n",
      "[10:50:47] UFFTYPER: Unrecognized charge state for atom: 0\n",
      "[10:50:47] UFFTYPER: Unrecognized charge state for atom: 0\n",
      "[10:50:47] UFFTYPER: Unrecognized charge state for atom: 0\n",
      "[10:50:47] UFFTYPER: Unrecognized atom type: Fe2+2 (0)\n",
      "[10:50:47] UFFTYPER: Unrecognized atom type: Fe2+2 (0)\n",
      "[10:50:47] UFFTYPER: Unrecognized atom type: Fe2+2 (0)\n",
      "[10:50:47] UFFTYPER: Unrecognized atom type: Fe2+2 (0)\n",
      "[10:50:47] UFFTYPER: Unrecognized atom type: Fe2+2 (10)\n",
      "[10:50:47] UFFTYPER: Unrecognized atom type: Fe2+2 (11)\n",
      "[10:50:47] UFFTYPER: Unrecognized atom type: Fe2+2 (12)\n",
      "[10:50:47] UFFTYPER: Unrecognized atom type: Fe2+2 (13)\n",
      "[10:50:47] UFFTYPER: Unrecognized atom type: Cr1+3 (0)\n",
      "[10:50:47] UFFTYPER: Unrecognized atom type: Cr1+3 (0)\n",
      "[10:50:47] UFFTYPER: Unrecognized atom type: Cr1+3 (0)\n",
      "[10:50:47] UFFTYPER: Unrecognized atom type: Cr1+3 (0)\n",
      "[10:50:47] UFFTYPER: Unrecognized atom type: Cr1+3 (0)\n",
      "[10:50:47] UFFTYPER: Unrecognized atom type: Cr1+3 (0)\n",
      "[10:50:54] UFFTYPER: Unrecognized charge state for atom: 0\n",
      "[10:50:54] UFFTYPER: Unrecognized atom type: Ga+3 (0)\n"
     ]
    }
   ],
   "source": [
    "# Process each molecule\n",
    "for idx, row in df.iterrows():\n",
    "    try:\n",
    "        drug_id = row['drug_id']  #Assuming 'drug_id' is the column name\n",
    "        \n",
    "        # Create RDKit molecule object from SMILES\n",
    "        mol = Chem.MolFromSmiles(row['smiles'])\n",
    "        if mol is None:\n",
    "            print(f\"Failed to create molecule from SMILES: {row['smiles']}\")\n",
    "            indices_to_remove.append(idx)\n",
    "            continue\n",
    "        \n",
    "        # Add hydrogens to the molecule\n",
    "        mol = Chem.AddHs(mol)\n",
    "        \n",
    "        # Generate conformers\n",
    "        AllChem.EmbedMultipleConfs(mol, numConfs=1)  # Generates 1 conformer\n",
    "        \n",
    "        # Perform UFF optimization on each conformer\n",
    "        for conf in mol.GetConformers():\n",
    "            try:\n",
    "                AllChem.UFFOptimizeMolecule(mol, confId=conf.GetId(), maxIters=1000)\n",
    "            except Exception as e:\n",
    "                print(f\"UFF optimization failed for molecule with DrugbankID {drug_id}: {row['smiles']}\")\n",
    "                print(e)\n",
    "        \n",
    "        # Save the optimized molecule to an SDF file\n",
    "        sdf_filename = f'../Data/drug_sdfs/mol_{drug_id}.sdf'  # Naming based on DrugbankID\n",
    "        writer = Chem.SDWriter(sdf_filename)\n",
    "        writer.write(mol)\n",
    "        writer.close()\n",
    "        \n",
    "    except Exception as e:\n",
    "        print(f\"Processing failed for molecule with DrugbankID {drug_id}: {row['smiles']}\")\n",
    "        print(e)\n",
    "        indices_to_remove.append(idx)"
   ]
  },
  {
   "cell_type": "code",
   "execution_count": 5,
   "id": "5b0ad985-b224-47a5-a34a-d9e81652219d",
   "metadata": {
    "lines_to_next_cell": 2
   },
   "outputs": [
    {
     "name": "stdout",
     "output_type": "stream",
     "text": [
      "3\n"
     ]
    }
   ],
   "source": [
    "print(len(indices_to_remove))"
   ]
  },
  {
   "cell_type": "code",
   "execution_count": null,
   "id": "1762e4c6-490e-4d21-8f28-ac19c6dd1ff2",
   "metadata": {
    "lines_to_next_cell": 2
   },
   "outputs": [],
   "source": [
    "## Optionally, save the processed DataFrame back to a CSV file without the removed molecules\n",
    "#df_cleaned = df.drop(indices_to_remove)\n",
    "#df_cleaned.to_csv('../data/cleaned_drug_protein_interactions.csv', index=False, sep=\"|\")"
   ]
  }
 ],
 "metadata": {
  "jupytext": {
   "cell_metadata_filter": "-all",
   "main_language": "python",
   "notebook_metadata_filter": "-all"
  },
  "kernelspec": {
   "display_name": "Python 3",
   "language": "python",
   "name": "python3"
  },
  "language_info": {
   "codemirror_mode": {
    "name": "ipython",
    "version": 3
   },
   "file_extension": ".py",
   "mimetype": "text/x-python",
   "name": "python",
   "nbconvert_exporter": "python",
   "pygments_lexer": "ipython3",
   "version": "3.11.3"
  },
  "widgets": {
   "application/vnd.jupyter.widget-state+json": {
    "state": {},
    "version_major": 2,
    "version_minor": 0
   }
  }
 },
 "nbformat": 4,
 "nbformat_minor": 5
}
