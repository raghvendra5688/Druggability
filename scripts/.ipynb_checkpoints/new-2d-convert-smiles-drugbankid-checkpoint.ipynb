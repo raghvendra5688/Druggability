{
 "cells": [
  {
   "cell_type": "code",
   "execution_count": 1,
   "id": "4397ec1c",
   "metadata": {},
   "outputs": [],
   "source": [
    "import pandas as pd\n",
    "from rdkit import Chem\n",
    "from rdkit.Chem import AllChem"
   ]
  },
  {
   "cell_type": "code",
   "execution_count": 2,
   "id": "fdc91780",
   "metadata": {},
   "outputs": [
    {
     "data": {
      "text/plain": [
       "Index(['drug_id', 'name', 'cas', 'smiles', 'logP ALOGPS', 'logP ChemAxon',\n",
       "       'solubility ALOGPS', 'pKa (strongest acidic)', 'pKa (strongest basic)',\n",
       "       'drugname', 'drug_type', 'approved', 'experimental', 'illicit',\n",
       "       'investigational', 'nutraceutical', 'withdrawn', 'collated_partner_id',\n",
       "       'collated_gene_name', 'collated_target_type', 'collated_inhibitor',\n",
       "       'collated_inducer'],\n",
       "      dtype='object')"
      ]
     },
     "execution_count": 2,
     "metadata": {},
     "output_type": "execute_result"
    }
   ],
   "source": [
    "# Load your data into a DataFrame (assuming 'data.csv' contains your data)\n",
    "df = pd.read_csv('../Data/drug_protein_interactions.csv', sep=\"|\")\n",
    "df.columns"
   ]
  },
  {
   "cell_type": "code",
   "execution_count": 3,
   "id": "3cd9e299",
   "metadata": {},
   "outputs": [],
   "source": [
    "# Define indices or identifiers of molecules to remove due to bad conformer IDs\n",
    "indices_to_remove = []"
   ]
  },
  {
   "cell_type": "code",
   "execution_count": null,
   "id": "8548e2f4",
   "metadata": {},
   "outputs": [
    {
     "name": "stderr",
     "output_type": "stream",
     "text": [
      "[10:03:09] UFFTYPER: Unrecognized atom type: Co5+3 (45)\n",
      "[10:03:13] UFFTYPER: Unrecognized charge state for atom: 4\n",
      "[10:03:13] UFFTYPER: Unrecognized charge state for atom: 4\n",
      "[10:03:26] UFFTYPER: Unrecognized charge state for atom: 93\n",
      "[10:03:34] UFFTYPER: Warning: hybridization set to SP3 for atom 1\n",
      "[10:03:34] UFFTYPER: Warning: hybridization set to SP3 for atom 1\n",
      "[10:03:34] UFFTYPER: Warning: hybridization set to SP3 for atom 18\n",
      "[10:03:34] UFFTYPER: Warning: hybridization set to SP3 for atom 31\n",
      "[10:03:34] UFFTYPER: Warning: hybridization set to SP3 for atom 40\n",
      "[10:03:34] UFFTYPER: Warning: hybridization set to SP3 for atom 49\n",
      "[10:03:34] UFFTYPER: Warning: hybridization set to SP3 for atom 58\n",
      "[10:03:34] UFFTYPER: Warning: hybridization set to SP3 for atom 67\n",
      "[10:03:34] UFFTYPER: Warning: hybridization set to SP3 for atom 76\n",
      "[10:05:39] UFFTYPER: Unrecognized charge state for atom: 0\n",
      "[10:05:39] UFFTYPER: Unrecognized atom type: Gd2+3 (0)\n",
      "[10:05:39] UFFTYPER: Unrecognized charge state for atom: 0\n",
      "[10:05:39] UFFTYPER: Unrecognized atom type: Gd2+3 (0)\n"
     ]
    }
   ],
   "source": [
    "# Process each molecule\n",
    "for idx, row in df.iterrows():\n",
    "    try:\n",
    "        drug_id = row['drug_id']  #Assuming 'drug_id' is the column name\n",
    "        \n",
    "        # Create RDKit molecule object from SMILES\n",
    "        mol = Chem.MolFromSmiles(row['smiles'])\n",
    "        if mol is None:\n",
    "            print(f\"Failed to create molecule from SMILES: {row['smiles']}\")\n",
    "            indices_to_remove.append(idx)\n",
    "            continue\n",
    "        \n",
    "        # Add hydrogens to the molecule\n",
    "        mol = Chem.AddHs(mol)\n",
    "        \n",
    "        # Generate conformers\n",
    "        AllChem.EmbedMultipleConfs(mol, numConfs=1)  # Generates 1 conformer\n",
    "        \n",
    "        # Perform UFF optimization on each conformer\n",
    "        for conf in mol.GetConformers():\n",
    "            try:\n",
    "                AllChem.UFFOptimizeMolecule(mol, confId=conf.GetId(), maxIters=1000)\n",
    "            except Exception as e:\n",
    "                print(f\"UFF optimization failed for molecule with DrugbankID {drug_id}: {row['smiles']}\")\n",
    "                print(e)\n",
    "        \n",
    "        # Save the optimized molecule to an SDF file\n",
    "        sdf_filename = f'../Data/drug_sdfs/mol_{drug_id}.sdf'  # Naming based on DrugbankID\n",
    "        writer = Chem.SDWriter(sdf_filename)\n",
    "        writer.write(mol)\n",
    "        writer.close()\n",
    "        \n",
    "    except Exception as e:\n",
    "        print(f\"Processing failed for molecule with DrugbankID {drug_id}: {row['smiles']}\")\n",
    "        print(e)\n",
    "        indices_to_remove.append(idx)"
   ]
  },
  {
   "cell_type": "code",
   "execution_count": null,
   "id": "5b0ad985-b224-47a5-a34a-d9e81652219d",
   "metadata": {
    "lines_to_next_cell": 2
   },
   "outputs": [],
   "source": [
    "print(len(indices_to_remove))"
   ]
  },
  {
   "cell_type": "code",
   "execution_count": null,
   "id": "1762e4c6-490e-4d21-8f28-ac19c6dd1ff2",
   "metadata": {
    "lines_to_next_cell": 2
   },
   "outputs": [],
   "source": [
    "## Optionally, save the processed DataFrame back to a CSV file without the removed molecules\n",
    "#df_cleaned = df.drop(indices_to_remove)\n",
    "#df_cleaned.to_csv('../data/cleaned_drug_protein_interactions.csv', index=False, sep=\"|\")"
   ]
  }
 ],
 "metadata": {
  "jupytext": {
   "cell_metadata_filter": "-all",
   "main_language": "python",
   "notebook_metadata_filter": "-all"
  },
  "kernelspec": {
   "display_name": "Python 3",
   "language": "python",
   "name": "python3"
  },
  "language_info": {
   "codemirror_mode": {
    "name": "ipython",
    "version": 3
   },
   "file_extension": ".py",
   "mimetype": "text/x-python",
   "name": "python",
   "nbconvert_exporter": "python",
   "pygments_lexer": "ipython3",
   "version": "3.11.3"
  },
  "widgets": {
   "application/vnd.jupyter.widget-state+json": {
    "state": {},
    "version_major": 2,
    "version_minor": 0
   }
  }
 },
 "nbformat": 4,
 "nbformat_minor": 5
}
